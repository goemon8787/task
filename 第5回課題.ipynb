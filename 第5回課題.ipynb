{
 "cells": [
  {
   "cell_type": "markdown",
   "metadata": {},
   "source": [
    "# 第5回課題\n",
    "第5回課題では，以下の項目を満たすように分析してください．\n",
    "\n",
    "明確な解答は用意していませんが，少なくとも間違っていないと言える推論をするようにしてください．\n",
    "\n",
    "- データの取得\n",
    "- データの確認\n",
    " - 特徴量の確認\n",
    " - ラベルの確認\n",
    "- 仮説を立てる\n",
    "- データの分析\n",
    "- モデルの訓練\n",
    "- 予測\n",
    "- 精度の確認\n",
    "- 仮説の確認"
   ]
  },
  {
   "cell_type": "markdown",
   "metadata": {},
   "source": [
    "# データの取得\n",
    "wine data 以外を利用してデータ分析してください．\n",
    "\n",
    "なるべく，ラベルと属性から推論が立てやすいデータを選択するとやりやすいです．"
   ]
  },
  {
   "cell_type": "code",
   "execution_count": 1,
   "metadata": {
    "collapsed": true
   },
   "outputs": [],
   "source": [
    "from sklearn.datasets import load_breast_cancer\n",
    "import numpy as np\n",
    "import pandas as pd\n",
    "import matplotlib.pyplot as plt\n",
    "\n",
    "SEED = 64"
   ]
  },
  {
   "cell_type": "code",
   "execution_count": 2,
   "metadata": {},
   "outputs": [],
   "source": [
    "# https://scikit-learn.org/stable/modules/generated/sklearn.datasets.load_breast_cancer.html より、肺がん患者の悪性分類\n",
    "\n",
    "data = load_breast_cancer()"
   ]
  },
  {
   "cell_type": "markdown",
   "metadata": {},
   "source": [
    "# データの確認\n",
    "データ分析以前にわかることを確認．特徴量の属性やドメイン知識など\n",
    "- 特徴量の確認\n",
    "- ラベルの確認"
   ]
  },
  {
   "cell_type": "code",
   "execution_count": 3,
   "metadata": {
    "collapsed": true
   },
   "outputs": [
    {
     "data": {
      "text/plain": [
       "dict_keys(['data', 'target', 'target_names', 'DESCR', 'feature_names', 'filename'])"
      ]
     },
     "execution_count": 3,
     "metadata": {},
     "output_type": "execute_result"
    }
   ],
   "source": [
    "data.keys()"
   ]
  },
  {
   "cell_type": "markdown",
   "metadata": {},
   "source": [
    "## dataについて\n",
    "\n",
    "データ数: 569\n",
    "特徴量数: 30\n",
    "目的変数: [0,1] の 2値分類\n"
   ]
  },
  {
   "cell_type": "code",
   "execution_count": 4,
   "metadata": {},
   "outputs": [
    {
     "data": {
      "text/plain": [
       "Index(['mean radius', 'mean texture', 'mean perimeter', 'mean area',\n",
       "       'mean smoothness', 'mean compactness', 'mean concavity',\n",
       "       'mean concave points', 'mean symmetry', 'mean fractal dimension',\n",
       "       'radius error', 'texture error', 'perimeter error', 'area error',\n",
       "       'smoothness error', 'compactness error', 'concavity error',\n",
       "       'concave points error', 'symmetry error', 'fractal dimension error',\n",
       "       'worst radius', 'worst texture', 'worst perimeter', 'worst area',\n",
       "       'worst smoothness', 'worst compactness', 'worst concavity',\n",
       "       'worst concave points', 'worst symmetry', 'worst fractal dimension'],\n",
       "      dtype='object')"
      ]
     },
     "execution_count": 4,
     "metadata": {},
     "output_type": "execute_result"
    }
   ],
   "source": [
    "# 特徴量\n",
    "X = pd.DataFrame(data.data, columns=data.feature_names)\n",
    "X.columns"
   ]
  },
  {
   "cell_type": "markdown",
   "metadata": {},
   "source": [
    "## 特徴量について\n",
    "\n",
    "https://archive.ics.uci.edu/ml/datasets/Breast+Cancer+Wisconsin+(Diagnostic) より、\n",
    "\n",
    "\n",
    "a) radius (mean of distances from center to points on the perimeter) → がんの大体の半径\n",
    "\n",
    "b) texture (standard deviation of gray-scale values) → レントゲン写真か何かのグレースケールの標準偏差？\n",
    "\n",
    "c) perimeter → 周の長さ\n",
    "\n",
    "d) area → 面積\n",
    "\n",
    "e) smoothness (local variation in radius lengths) → 滑らかさ(半径の長さの局所変動) 外径に影響\n",
    "\n",
    "f) compactness (perimeter^2 / area - 1.0) → 密度のようなもの\n",
    "\n",
    "g) concavity (severity of concave portions of the contour) → 外径のくぼみのひどさ？\n",
    "\n",
    "h) concave points (number of concave portions of the contour) → 凹んでいる部分の数\n",
    "\n",
    "i) symmetry → 対称性?\n",
    "\n",
    "j) fractal dimension (\"coastline approximation\" - 1) → フラクタル次元\n"
   ]
  },
  {
   "cell_type": "markdown",
   "metadata": {},
   "source": [
    "## 平均、誤差、最悪の場合の関係性について\n",
    "\n"
   ]
  },
  {
   "cell_type": "code",
   "execution_count": 5,
   "metadata": {},
   "outputs": [
    {
     "data": {
      "text/plain": [
       "(1001.0, 153.4, 2019.0)"
      ]
     },
     "execution_count": 5,
     "metadata": {},
     "output_type": "execute_result"
    }
   ],
   "source": [
    "# 誤差がどのように計算されているのか不明\n",
    "X['mean area'][0], X[\"area error\"][0], X[\"worst area\"][0]"
   ]
  },
  {
   "cell_type": "code",
   "execution_count": 6,
   "metadata": {},
   "outputs": [
    {
     "data": {
      "text/plain": [
       "(0.2776, 0.04904, 0.6656)"
      ]
     },
     "execution_count": 6,
     "metadata": {},
     "output_type": "execute_result"
    }
   ],
   "source": [
    "X['mean compactness'][0], X[\"compactness error\"][0], X[\"worst compactness\"][0]"
   ]
  },
  {
   "cell_type": "markdown",
   "metadata": {},
   "source": [
    "## ドメイン知識として\n",
    "悪性腫瘍ほど\n",
    "\n",
    "境界がわかりにくい\n",
    "\n",
    "・smoothnessが小さい?\n",
    "\n",
    "・面積に対して周の長さが大きい → compactness 大?\n",
    "\n",
    "・fractal dimension も大きそう\n",
    "                 \n",
    "広がる速度が早い\n",
    "\n",
    "・textureに影響?\n",
    "\n",
    "対称性, 凹みに関する情報以外はわかりやすそう"
   ]
  },
  {
   "cell_type": "code",
   "execution_count": 7,
   "metadata": {},
   "outputs": [],
   "source": [
    "# 目的変数\n",
    "y = pd.Series(data.target, name=\"target\")"
   ]
  },
  {
   "cell_type": "markdown",
   "metadata": {},
   "source": [
    "# 仮説を立てる\n",
    "データについて，導きたい仮説と結論を整理してください．"
   ]
  },
  {
   "cell_type": "markdown",
   "metadata": {},
   "source": [
    "ドメイン知識を基に、平均compactness, fractal dimension, texture が大きく、smoothnessが小さいほど、悪性である可能性が高そう"
   ]
  },
  {
   "cell_type": "markdown",
   "metadata": {},
   "source": [
    "# データの分析"
   ]
  },
  {
   "cell_type": "code",
   "execution_count": 8,
   "metadata": {
    "collapsed": true
   },
   "outputs": [
    {
     "data": {
      "text/html": [
       "<div>\n",
       "<style scoped>\n",
       "    .dataframe tbody tr th:only-of-type {\n",
       "        vertical-align: middle;\n",
       "    }\n",
       "\n",
       "    .dataframe tbody tr th {\n",
       "        vertical-align: top;\n",
       "    }\n",
       "\n",
       "    .dataframe thead th {\n",
       "        text-align: right;\n",
       "    }\n",
       "</style>\n",
       "<table border=\"1\" class=\"dataframe\">\n",
       "  <thead>\n",
       "    <tr style=\"text-align: right;\">\n",
       "      <th></th>\n",
       "      <th>mean radius</th>\n",
       "      <th>mean texture</th>\n",
       "      <th>mean perimeter</th>\n",
       "      <th>mean area</th>\n",
       "      <th>mean smoothness</th>\n",
       "      <th>mean compactness</th>\n",
       "      <th>mean concavity</th>\n",
       "      <th>mean concave points</th>\n",
       "      <th>mean symmetry</th>\n",
       "      <th>mean fractal dimension</th>\n",
       "      <th>...</th>\n",
       "      <th>worst texture</th>\n",
       "      <th>worst perimeter</th>\n",
       "      <th>worst area</th>\n",
       "      <th>worst smoothness</th>\n",
       "      <th>worst compactness</th>\n",
       "      <th>worst concavity</th>\n",
       "      <th>worst concave points</th>\n",
       "      <th>worst symmetry</th>\n",
       "      <th>worst fractal dimension</th>\n",
       "      <th>target</th>\n",
       "    </tr>\n",
       "  </thead>\n",
       "  <tbody>\n",
       "    <tr>\n",
       "      <th>count</th>\n",
       "      <td>569.000000</td>\n",
       "      <td>569.000000</td>\n",
       "      <td>569.000000</td>\n",
       "      <td>569.000000</td>\n",
       "      <td>569.000000</td>\n",
       "      <td>569.000000</td>\n",
       "      <td>569.000000</td>\n",
       "      <td>569.000000</td>\n",
       "      <td>569.000000</td>\n",
       "      <td>569.000000</td>\n",
       "      <td>...</td>\n",
       "      <td>569.000000</td>\n",
       "      <td>569.000000</td>\n",
       "      <td>569.000000</td>\n",
       "      <td>569.000000</td>\n",
       "      <td>569.000000</td>\n",
       "      <td>569.000000</td>\n",
       "      <td>569.000000</td>\n",
       "      <td>569.000000</td>\n",
       "      <td>569.000000</td>\n",
       "      <td>569.000000</td>\n",
       "    </tr>\n",
       "    <tr>\n",
       "      <th>mean</th>\n",
       "      <td>14.127292</td>\n",
       "      <td>19.289649</td>\n",
       "      <td>91.969033</td>\n",
       "      <td>654.889104</td>\n",
       "      <td>0.096360</td>\n",
       "      <td>0.104341</td>\n",
       "      <td>0.088799</td>\n",
       "      <td>0.048919</td>\n",
       "      <td>0.181162</td>\n",
       "      <td>0.062798</td>\n",
       "      <td>...</td>\n",
       "      <td>25.677223</td>\n",
       "      <td>107.261213</td>\n",
       "      <td>880.583128</td>\n",
       "      <td>0.132369</td>\n",
       "      <td>0.254265</td>\n",
       "      <td>0.272188</td>\n",
       "      <td>0.114606</td>\n",
       "      <td>0.290076</td>\n",
       "      <td>0.083946</td>\n",
       "      <td>0.627417</td>\n",
       "    </tr>\n",
       "    <tr>\n",
       "      <th>std</th>\n",
       "      <td>3.524049</td>\n",
       "      <td>4.301036</td>\n",
       "      <td>24.298981</td>\n",
       "      <td>351.914129</td>\n",
       "      <td>0.014064</td>\n",
       "      <td>0.052813</td>\n",
       "      <td>0.079720</td>\n",
       "      <td>0.038803</td>\n",
       "      <td>0.027414</td>\n",
       "      <td>0.007060</td>\n",
       "      <td>...</td>\n",
       "      <td>6.146258</td>\n",
       "      <td>33.602542</td>\n",
       "      <td>569.356993</td>\n",
       "      <td>0.022832</td>\n",
       "      <td>0.157336</td>\n",
       "      <td>0.208624</td>\n",
       "      <td>0.065732</td>\n",
       "      <td>0.061867</td>\n",
       "      <td>0.018061</td>\n",
       "      <td>0.483918</td>\n",
       "    </tr>\n",
       "    <tr>\n",
       "      <th>min</th>\n",
       "      <td>6.981000</td>\n",
       "      <td>9.710000</td>\n",
       "      <td>43.790000</td>\n",
       "      <td>143.500000</td>\n",
       "      <td>0.052630</td>\n",
       "      <td>0.019380</td>\n",
       "      <td>0.000000</td>\n",
       "      <td>0.000000</td>\n",
       "      <td>0.106000</td>\n",
       "      <td>0.049960</td>\n",
       "      <td>...</td>\n",
       "      <td>12.020000</td>\n",
       "      <td>50.410000</td>\n",
       "      <td>185.200000</td>\n",
       "      <td>0.071170</td>\n",
       "      <td>0.027290</td>\n",
       "      <td>0.000000</td>\n",
       "      <td>0.000000</td>\n",
       "      <td>0.156500</td>\n",
       "      <td>0.055040</td>\n",
       "      <td>0.000000</td>\n",
       "    </tr>\n",
       "    <tr>\n",
       "      <th>25%</th>\n",
       "      <td>11.700000</td>\n",
       "      <td>16.170000</td>\n",
       "      <td>75.170000</td>\n",
       "      <td>420.300000</td>\n",
       "      <td>0.086370</td>\n",
       "      <td>0.064920</td>\n",
       "      <td>0.029560</td>\n",
       "      <td>0.020310</td>\n",
       "      <td>0.161900</td>\n",
       "      <td>0.057700</td>\n",
       "      <td>...</td>\n",
       "      <td>21.080000</td>\n",
       "      <td>84.110000</td>\n",
       "      <td>515.300000</td>\n",
       "      <td>0.116600</td>\n",
       "      <td>0.147200</td>\n",
       "      <td>0.114500</td>\n",
       "      <td>0.064930</td>\n",
       "      <td>0.250400</td>\n",
       "      <td>0.071460</td>\n",
       "      <td>0.000000</td>\n",
       "    </tr>\n",
       "    <tr>\n",
       "      <th>50%</th>\n",
       "      <td>13.370000</td>\n",
       "      <td>18.840000</td>\n",
       "      <td>86.240000</td>\n",
       "      <td>551.100000</td>\n",
       "      <td>0.095870</td>\n",
       "      <td>0.092630</td>\n",
       "      <td>0.061540</td>\n",
       "      <td>0.033500</td>\n",
       "      <td>0.179200</td>\n",
       "      <td>0.061540</td>\n",
       "      <td>...</td>\n",
       "      <td>25.410000</td>\n",
       "      <td>97.660000</td>\n",
       "      <td>686.500000</td>\n",
       "      <td>0.131300</td>\n",
       "      <td>0.211900</td>\n",
       "      <td>0.226700</td>\n",
       "      <td>0.099930</td>\n",
       "      <td>0.282200</td>\n",
       "      <td>0.080040</td>\n",
       "      <td>1.000000</td>\n",
       "    </tr>\n",
       "    <tr>\n",
       "      <th>75%</th>\n",
       "      <td>15.780000</td>\n",
       "      <td>21.800000</td>\n",
       "      <td>104.100000</td>\n",
       "      <td>782.700000</td>\n",
       "      <td>0.105300</td>\n",
       "      <td>0.130400</td>\n",
       "      <td>0.130700</td>\n",
       "      <td>0.074000</td>\n",
       "      <td>0.195700</td>\n",
       "      <td>0.066120</td>\n",
       "      <td>...</td>\n",
       "      <td>29.720000</td>\n",
       "      <td>125.400000</td>\n",
       "      <td>1084.000000</td>\n",
       "      <td>0.146000</td>\n",
       "      <td>0.339100</td>\n",
       "      <td>0.382900</td>\n",
       "      <td>0.161400</td>\n",
       "      <td>0.317900</td>\n",
       "      <td>0.092080</td>\n",
       "      <td>1.000000</td>\n",
       "    </tr>\n",
       "    <tr>\n",
       "      <th>max</th>\n",
       "      <td>28.110000</td>\n",
       "      <td>39.280000</td>\n",
       "      <td>188.500000</td>\n",
       "      <td>2501.000000</td>\n",
       "      <td>0.163400</td>\n",
       "      <td>0.345400</td>\n",
       "      <td>0.426800</td>\n",
       "      <td>0.201200</td>\n",
       "      <td>0.304000</td>\n",
       "      <td>0.097440</td>\n",
       "      <td>...</td>\n",
       "      <td>49.540000</td>\n",
       "      <td>251.200000</td>\n",
       "      <td>4254.000000</td>\n",
       "      <td>0.222600</td>\n",
       "      <td>1.058000</td>\n",
       "      <td>1.252000</td>\n",
       "      <td>0.291000</td>\n",
       "      <td>0.663800</td>\n",
       "      <td>0.207500</td>\n",
       "      <td>1.000000</td>\n",
       "    </tr>\n",
       "  </tbody>\n",
       "</table>\n",
       "<p>8 rows × 31 columns</p>\n",
       "</div>"
      ],
      "text/plain": [
       "       mean radius  mean texture  mean perimeter    mean area  \\\n",
       "count   569.000000    569.000000      569.000000   569.000000   \n",
       "mean     14.127292     19.289649       91.969033   654.889104   \n",
       "std       3.524049      4.301036       24.298981   351.914129   \n",
       "min       6.981000      9.710000       43.790000   143.500000   \n",
       "25%      11.700000     16.170000       75.170000   420.300000   \n",
       "50%      13.370000     18.840000       86.240000   551.100000   \n",
       "75%      15.780000     21.800000      104.100000   782.700000   \n",
       "max      28.110000     39.280000      188.500000  2501.000000   \n",
       "\n",
       "       mean smoothness  mean compactness  mean concavity  mean concave points  \\\n",
       "count       569.000000        569.000000      569.000000           569.000000   \n",
       "mean          0.096360          0.104341        0.088799             0.048919   \n",
       "std           0.014064          0.052813        0.079720             0.038803   \n",
       "min           0.052630          0.019380        0.000000             0.000000   \n",
       "25%           0.086370          0.064920        0.029560             0.020310   \n",
       "50%           0.095870          0.092630        0.061540             0.033500   \n",
       "75%           0.105300          0.130400        0.130700             0.074000   \n",
       "max           0.163400          0.345400        0.426800             0.201200   \n",
       "\n",
       "       mean symmetry  mean fractal dimension     ...      worst texture  \\\n",
       "count     569.000000              569.000000     ...         569.000000   \n",
       "mean        0.181162                0.062798     ...          25.677223   \n",
       "std         0.027414                0.007060     ...           6.146258   \n",
       "min         0.106000                0.049960     ...          12.020000   \n",
       "25%         0.161900                0.057700     ...          21.080000   \n",
       "50%         0.179200                0.061540     ...          25.410000   \n",
       "75%         0.195700                0.066120     ...          29.720000   \n",
       "max         0.304000                0.097440     ...          49.540000   \n",
       "\n",
       "       worst perimeter   worst area  worst smoothness  worst compactness  \\\n",
       "count       569.000000   569.000000        569.000000         569.000000   \n",
       "mean        107.261213   880.583128          0.132369           0.254265   \n",
       "std          33.602542   569.356993          0.022832           0.157336   \n",
       "min          50.410000   185.200000          0.071170           0.027290   \n",
       "25%          84.110000   515.300000          0.116600           0.147200   \n",
       "50%          97.660000   686.500000          0.131300           0.211900   \n",
       "75%         125.400000  1084.000000          0.146000           0.339100   \n",
       "max         251.200000  4254.000000          0.222600           1.058000   \n",
       "\n",
       "       worst concavity  worst concave points  worst symmetry  \\\n",
       "count       569.000000            569.000000      569.000000   \n",
       "mean          0.272188              0.114606        0.290076   \n",
       "std           0.208624              0.065732        0.061867   \n",
       "min           0.000000              0.000000        0.156500   \n",
       "25%           0.114500              0.064930        0.250400   \n",
       "50%           0.226700              0.099930        0.282200   \n",
       "75%           0.382900              0.161400        0.317900   \n",
       "max           1.252000              0.291000        0.663800   \n",
       "\n",
       "       worst fractal dimension      target  \n",
       "count               569.000000  569.000000  \n",
       "mean                  0.083946    0.627417  \n",
       "std                   0.018061    0.483918  \n",
       "min                   0.055040    0.000000  \n",
       "25%                   0.071460    0.000000  \n",
       "50%                   0.080040    1.000000  \n",
       "75%                   0.092080    1.000000  \n",
       "max                   0.207500    1.000000  \n",
       "\n",
       "[8 rows x 31 columns]"
      ]
     },
     "execution_count": 8,
     "metadata": {},
     "output_type": "execute_result"
    }
   ],
   "source": [
    "df = X.join(y)\n",
    "df.describe()"
   ]
  },
  {
   "cell_type": "code",
   "execution_count": 61,
   "metadata": {},
   "outputs": [],
   "source": [
    "mean_columns = pd.Index(data.feature_names[:10])\n",
    "error_columns = pd.Index(data.feature_names[10:20])\n",
    "worst_columns = pd.Index(data.feature_names[20:30])"
   ]
  },
  {
   "cell_type": "code",
   "execution_count": 9,
   "metadata": {},
   "outputs": [],
   "source": [
    "# 水準数が (0, 1)の 2なので、単に相関を取ってみる\n",
    "corr_target = pd.Series([df[col].corr(df.target) for col in df.columns], index=df.columns)"
   ]
  },
  {
   "cell_type": "code",
   "execution_count": 10,
   "metadata": {},
   "outputs": [
    {
     "data": {
      "text/plain": [
       "target                     1.000000\n",
       "worst concave points       0.793566\n",
       "worst perimeter            0.782914\n",
       "mean concave points        0.776614\n",
       "worst radius               0.776454\n",
       "mean perimeter             0.742636\n",
       "worst area                 0.733825\n",
       "mean radius                0.730029\n",
       "mean area                  0.708984\n",
       "mean concavity             0.696360\n",
       "worst concavity            0.659610\n",
       "mean compactness           0.596534\n",
       "worst compactness          0.590998\n",
       "radius error               0.567134\n",
       "perimeter error            0.556141\n",
       "area error                 0.548236\n",
       "worst texture              0.456903\n",
       "worst smoothness           0.421465\n",
       "worst symmetry             0.416294\n",
       "mean texture               0.415185\n",
       "concave points error       0.408042\n",
       "mean smoothness            0.358560\n",
       "mean symmetry              0.330499\n",
       "worst fractal dimension    0.323872\n",
       "compactness error          0.292999\n",
       "concavity error            0.253730\n",
       "fractal dimension error    0.077972\n",
       "smoothness error           0.067016\n",
       "mean fractal dimension     0.012838\n",
       "texture error              0.008303\n",
       "symmetry error             0.006522\n",
       "dtype: float64"
      ]
     },
     "execution_count": 10,
     "metadata": {},
     "output_type": "execute_result"
    }
   ],
   "source": [
    "corr_target.abs().sort_values(ascending=False)"
   ]
  },
  {
   "cell_type": "markdown",
   "metadata": {},
   "source": [
    "## わかったこと\n",
    "\n",
    "・目的変数と意味のわからなかった凹みに関する特徴量の相関関係が強い\n",
    "\n",
    "・errorの値は比較的相関関係が弱い\n",
    "\n",
    "・平均と最悪の値の相関関係は割とバラバラ"
   ]
  },
  {
   "cell_type": "code",
   "execution_count": 63,
   "metadata": {},
   "outputs": [],
   "source": [
    "# 平均と最悪を分けてみる\n",
    "corr_target_mean = corr_target[mean_columns]\n",
    "corr_target_worst = corr_target[worst_columns]"
   ]
  },
  {
   "cell_type": "code",
   "execution_count": 64,
   "metadata": {},
   "outputs": [
    {
     "data": {
      "text/plain": [
       "mean concave points       0.776614\n",
       "mean perimeter            0.742636\n",
       "mean radius               0.730029\n",
       "mean area                 0.708984\n",
       "mean concavity            0.696360\n",
       "mean compactness          0.596534\n",
       "mean texture              0.415185\n",
       "mean smoothness           0.358560\n",
       "mean symmetry             0.330499\n",
       "mean fractal dimension    0.012838\n",
       "dtype: float64"
      ]
     },
     "execution_count": 64,
     "metadata": {},
     "output_type": "execute_result"
    }
   ],
   "source": [
    "corr_target_mean.abs().sort_values(ascending=False)"
   ]
  },
  {
   "cell_type": "code",
   "execution_count": 65,
   "metadata": {},
   "outputs": [
    {
     "data": {
      "text/plain": [
       "worst concave points       0.793566\n",
       "worst perimeter            0.782914\n",
       "worst radius               0.776454\n",
       "worst area                 0.733825\n",
       "worst concavity            0.659610\n",
       "worst compactness          0.590998\n",
       "worst texture              0.456903\n",
       "worst smoothness           0.421465\n",
       "worst symmetry             0.416294\n",
       "worst fractal dimension    0.323872\n",
       "dtype: float64"
      ]
     },
     "execution_count": 65,
     "metadata": {},
     "output_type": "execute_result"
    }
   ],
   "source": [
    "corr_target_worst.abs().sort_values(ascending=False)"
   ]
  },
  {
   "cell_type": "code",
   "execution_count": 66,
   "metadata": {},
   "outputs": [
    {
     "data": {
      "text/plain": [
       "array([ True,  True,  True,  True, False, False,  True,  True,  True,\n",
       "        True])"
      ]
     },
     "execution_count": 66,
     "metadata": {},
     "output_type": "execute_result"
    }
   ],
   "source": [
    "corr_target_mean.abs().sort_values(ascending=False).values < corr_target_worst.abs().sort_values(ascending=False).values"
   ]
  },
  {
   "cell_type": "markdown",
   "metadata": {},
   "source": [
    "## わかったこと\n",
    "・ mean と worst の相関の強さの順番が完全に一致 → どちらか一方だけの利用でも良さそう？\n",
    "\n",
    "・ mean と worst の相関の大小関係は concavity と compactness 以外 worst の方が相関が強い"
   ]
  },
  {
   "cell_type": "code",
   "execution_count": 67,
   "metadata": {},
   "outputs": [],
   "source": [
    "# 一応 error に関しても同じことを行う\n",
    "corr_target_error = corr_target[error_columns]"
   ]
  },
  {
   "cell_type": "code",
   "execution_count": 68,
   "metadata": {},
   "outputs": [
    {
     "data": {
      "text/plain": [
       "radius error               0.567134\n",
       "perimeter error            0.556141\n",
       "area error                 0.548236\n",
       "concave points error       0.408042\n",
       "compactness error          0.292999\n",
       "concavity error            0.253730\n",
       "fractal dimension error    0.077972\n",
       "smoothness error           0.067016\n",
       "texture error              0.008303\n",
       "symmetry error             0.006522\n",
       "dtype: float64"
      ]
     },
     "execution_count": 68,
     "metadata": {},
     "output_type": "execute_result"
    }
   ],
   "source": [
    "corr_target_error.abs().sort_values(ascending=False)"
   ]
  },
  {
   "cell_type": "markdown",
   "metadata": {},
   "source": [
    "何も読みとれなかった。"
   ]
  },
  {
   "cell_type": "markdown",
   "metadata": {},
   "source": [
    "# モデルの訓練\n",
    "データは分割するようにしてください．交叉検証についてはまだ説明したいので自由にしてください．\n",
    "\n",
    "また，モデルの訓練およびデータ分割時に乱数の指定がないなど再現性がなさそうなコードは認めないことにします．\n",
    "\n",
    "モデルは自由ですが，sklearn を想定しています．自作ライブラリも可ですが，自作の場合，該当箇所は適当に読みます．"
   ]
  },
  {
   "cell_type": "code",
   "execution_count": 32,
   "metadata": {
    "collapsed": true
   },
   "outputs": [],
   "source": [
    "# RandomForest と SVM を利用\n",
    "# 評価は日分類でよくみる F1値 を利用\n",
    "# GridSearchCV の使い方は理解してるつもりですが、理論はわかってないです\n",
    "from sklearn.model_selection import train_test_split, GridSearchCV\n",
    "from sklearn.ensemble import RandomForestClassifier\n",
    "from sklearn.svm import SVC\n",
    "from sklearn.preprocessing import MinMaxScaler\n",
    "from sklearn.metrics import f1_score, accuracy_score"
   ]
  },
  {
   "cell_type": "code",
   "execution_count": 18,
   "metadata": {},
   "outputs": [],
   "source": [
    "# SVMを使うため、特徴量を正規化\n",
    "scaler = MinMaxScaler()\n",
    "X = scaler.fit_transform(X)\n",
    "X = pd.DataFrame(X, columns=data.feature_names)"
   ]
  },
  {
   "cell_type": "code",
   "execution_count": 19,
   "metadata": {},
   "outputs": [],
   "source": [
    "X_train, X_test, y_train, y_test = train_test_split(X, y, random_state=SEED)"
   ]
  },
  {
   "cell_type": "code",
   "execution_count": 23,
   "metadata": {},
   "outputs": [],
   "source": [
    "# Random Forest\n",
    "rf_base = RandomForestClassifier(n_jobs=4, random_state=SEED)\n",
    "rf_param_grid = {\"n_estimators\": (100, ), \"max_depth\": (3, 5, 7), \"max_features\": (0.5, 0.7, 0.9),\n",
    "             \"class_weight\": (None, \"balanced\")}\n",
    "rf_clf = GridSearchCV(rf_base, rf_param_grid, \"f1\", cv=5, verbose=2)"
   ]
  },
  {
   "cell_type": "code",
   "execution_count": 24,
   "metadata": {},
   "outputs": [
    {
     "name": "stdout",
     "output_type": "stream",
     "text": [
      "Fitting 5 folds for each of 18 candidates, totalling 90 fits\n",
      "[CV] class_weight=None, max_depth=3, max_features=0.5, n_estimators=100 \n"
     ]
    },
    {
     "name": "stderr",
     "output_type": "stream",
     "text": [
      "[Parallel(n_jobs=1)]: Using backend SequentialBackend with 1 concurrent workers.\n"
     ]
    },
    {
     "name": "stdout",
     "output_type": "stream",
     "text": [
      "[CV]  class_weight=None, max_depth=3, max_features=0.5, n_estimators=100, total=   2.2s\n",
      "[CV] class_weight=None, max_depth=3, max_features=0.5, n_estimators=100 \n"
     ]
    },
    {
     "name": "stderr",
     "output_type": "stream",
     "text": [
      "[Parallel(n_jobs=1)]: Done   1 out of   1 | elapsed:    2.2s remaining:    0.0s\n"
     ]
    },
    {
     "name": "stdout",
     "output_type": "stream",
     "text": [
      "[CV]  class_weight=None, max_depth=3, max_features=0.5, n_estimators=100, total=   0.3s\n",
      "[CV] class_weight=None, max_depth=3, max_features=0.5, n_estimators=100 \n",
      "[CV]  class_weight=None, max_depth=3, max_features=0.5, n_estimators=100, total=   0.3s\n",
      "[CV] class_weight=None, max_depth=3, max_features=0.5, n_estimators=100 \n",
      "[CV]  class_weight=None, max_depth=3, max_features=0.5, n_estimators=100, total=   0.3s\n",
      "[CV] class_weight=None, max_depth=3, max_features=0.5, n_estimators=100 \n",
      "[CV]  class_weight=None, max_depth=3, max_features=0.5, n_estimators=100, total=   0.3s\n",
      "[CV] class_weight=None, max_depth=3, max_features=0.7, n_estimators=100 \n",
      "[CV]  class_weight=None, max_depth=3, max_features=0.7, n_estimators=100, total=   0.3s\n",
      "[CV] class_weight=None, max_depth=3, max_features=0.7, n_estimators=100 \n",
      "[CV]  class_weight=None, max_depth=3, max_features=0.7, n_estimators=100, total=   0.3s\n",
      "[CV] class_weight=None, max_depth=3, max_features=0.7, n_estimators=100 \n",
      "[CV]  class_weight=None, max_depth=3, max_features=0.7, n_estimators=100, total=   0.3s\n",
      "[CV] class_weight=None, max_depth=3, max_features=0.7, n_estimators=100 \n",
      "[CV]  class_weight=None, max_depth=3, max_features=0.7, n_estimators=100, total=   0.3s\n",
      "[CV] class_weight=None, max_depth=3, max_features=0.7, n_estimators=100 \n",
      "[CV]  class_weight=None, max_depth=3, max_features=0.7, n_estimators=100, total=   0.3s\n",
      "[CV] class_weight=None, max_depth=3, max_features=0.9, n_estimators=100 \n",
      "[CV]  class_weight=None, max_depth=3, max_features=0.9, n_estimators=100, total=   0.3s\n",
      "[CV] class_weight=None, max_depth=3, max_features=0.9, n_estimators=100 \n",
      "[CV]  class_weight=None, max_depth=3, max_features=0.9, n_estimators=100, total=   0.5s\n",
      "[CV] class_weight=None, max_depth=3, max_features=0.9, n_estimators=100 \n",
      "[CV]  class_weight=None, max_depth=3, max_features=0.9, n_estimators=100, total=   0.3s\n",
      "[CV] class_weight=None, max_depth=3, max_features=0.9, n_estimators=100 \n",
      "[CV]  class_weight=None, max_depth=3, max_features=0.9, n_estimators=100, total=   0.3s\n",
      "[CV] class_weight=None, max_depth=3, max_features=0.9, n_estimators=100 \n",
      "[CV]  class_weight=None, max_depth=3, max_features=0.9, n_estimators=100, total=   0.3s\n",
      "[CV] class_weight=None, max_depth=5, max_features=0.5, n_estimators=100 \n",
      "[CV]  class_weight=None, max_depth=5, max_features=0.5, n_estimators=100, total=   0.3s\n",
      "[CV] class_weight=None, max_depth=5, max_features=0.5, n_estimators=100 \n",
      "[CV]  class_weight=None, max_depth=5, max_features=0.5, n_estimators=100, total=   0.3s\n",
      "[CV] class_weight=None, max_depth=5, max_features=0.5, n_estimators=100 \n",
      "[CV]  class_weight=None, max_depth=5, max_features=0.5, n_estimators=100, total=   0.3s\n",
      "[CV] class_weight=None, max_depth=5, max_features=0.5, n_estimators=100 \n",
      "[CV]  class_weight=None, max_depth=5, max_features=0.5, n_estimators=100, total=   0.3s\n",
      "[CV] class_weight=None, max_depth=5, max_features=0.5, n_estimators=100 \n",
      "[CV]  class_weight=None, max_depth=5, max_features=0.5, n_estimators=100, total=   0.3s\n",
      "[CV] class_weight=None, max_depth=5, max_features=0.7, n_estimators=100 \n",
      "[CV]  class_weight=None, max_depth=5, max_features=0.7, n_estimators=100, total=   0.3s\n",
      "[CV] class_weight=None, max_depth=5, max_features=0.7, n_estimators=100 \n",
      "[CV]  class_weight=None, max_depth=5, max_features=0.7, n_estimators=100, total=   0.4s\n",
      "[CV] class_weight=None, max_depth=5, max_features=0.7, n_estimators=100 \n",
      "[CV]  class_weight=None, max_depth=5, max_features=0.7, n_estimators=100, total=   0.3s\n",
      "[CV] class_weight=None, max_depth=5, max_features=0.7, n_estimators=100 \n",
      "[CV]  class_weight=None, max_depth=5, max_features=0.7, n_estimators=100, total=   0.3s\n",
      "[CV] class_weight=None, max_depth=5, max_features=0.7, n_estimators=100 \n",
      "[CV]  class_weight=None, max_depth=5, max_features=0.7, n_estimators=100, total=   0.3s\n",
      "[CV] class_weight=None, max_depth=5, max_features=0.9, n_estimators=100 \n",
      "[CV]  class_weight=None, max_depth=5, max_features=0.9, n_estimators=100, total=   0.3s\n",
      "[CV] class_weight=None, max_depth=5, max_features=0.9, n_estimators=100 \n",
      "[CV]  class_weight=None, max_depth=5, max_features=0.9, n_estimators=100, total=   0.3s\n",
      "[CV] class_weight=None, max_depth=5, max_features=0.9, n_estimators=100 \n",
      "[CV]  class_weight=None, max_depth=5, max_features=0.9, n_estimators=100, total=   0.3s\n",
      "[CV] class_weight=None, max_depth=5, max_features=0.9, n_estimators=100 \n",
      "[CV]  class_weight=None, max_depth=5, max_features=0.9, n_estimators=100, total=   0.3s\n",
      "[CV] class_weight=None, max_depth=5, max_features=0.9, n_estimators=100 \n",
      "[CV]  class_weight=None, max_depth=5, max_features=0.9, n_estimators=100, total=   0.3s\n",
      "[CV] class_weight=None, max_depth=7, max_features=0.5, n_estimators=100 \n",
      "[CV]  class_weight=None, max_depth=7, max_features=0.5, n_estimators=100, total=   0.3s\n",
      "[CV] class_weight=None, max_depth=7, max_features=0.5, n_estimators=100 \n",
      "[CV]  class_weight=None, max_depth=7, max_features=0.5, n_estimators=100, total=   0.3s\n",
      "[CV] class_weight=None, max_depth=7, max_features=0.5, n_estimators=100 \n",
      "[CV]  class_weight=None, max_depth=7, max_features=0.5, n_estimators=100, total=   0.3s\n",
      "[CV] class_weight=None, max_depth=7, max_features=0.5, n_estimators=100 \n",
      "[CV]  class_weight=None, max_depth=7, max_features=0.5, n_estimators=100, total=   0.3s\n",
      "[CV] class_weight=None, max_depth=7, max_features=0.5, n_estimators=100 \n",
      "[CV]  class_weight=None, max_depth=7, max_features=0.5, n_estimators=100, total=   0.3s\n",
      "[CV] class_weight=None, max_depth=7, max_features=0.7, n_estimators=100 \n",
      "[CV]  class_weight=None, max_depth=7, max_features=0.7, n_estimators=100, total=   0.4s\n",
      "[CV] class_weight=None, max_depth=7, max_features=0.7, n_estimators=100 \n",
      "[CV]  class_weight=None, max_depth=7, max_features=0.7, n_estimators=100, total=   0.4s\n",
      "[CV] class_weight=None, max_depth=7, max_features=0.7, n_estimators=100 \n",
      "[CV]  class_weight=None, max_depth=7, max_features=0.7, n_estimators=100, total=   0.4s\n",
      "[CV] class_weight=None, max_depth=7, max_features=0.7, n_estimators=100 \n",
      "[CV]  class_weight=None, max_depth=7, max_features=0.7, n_estimators=100, total=   0.3s\n",
      "[CV] class_weight=None, max_depth=7, max_features=0.7, n_estimators=100 \n",
      "[CV]  class_weight=None, max_depth=7, max_features=0.7, n_estimators=100, total=   0.3s\n",
      "[CV] class_weight=None, max_depth=7, max_features=0.9, n_estimators=100 \n",
      "[CV]  class_weight=None, max_depth=7, max_features=0.9, n_estimators=100, total=   0.3s\n",
      "[CV] class_weight=None, max_depth=7, max_features=0.9, n_estimators=100 \n",
      "[CV]  class_weight=None, max_depth=7, max_features=0.9, n_estimators=100, total=   0.3s\n",
      "[CV] class_weight=None, max_depth=7, max_features=0.9, n_estimators=100 \n",
      "[CV]  class_weight=None, max_depth=7, max_features=0.9, n_estimators=100, total=   0.3s\n",
      "[CV] class_weight=None, max_depth=7, max_features=0.9, n_estimators=100 \n",
      "[CV]  class_weight=None, max_depth=7, max_features=0.9, n_estimators=100, total=   0.4s\n",
      "[CV] class_weight=None, max_depth=7, max_features=0.9, n_estimators=100 \n",
      "[CV]  class_weight=None, max_depth=7, max_features=0.9, n_estimators=100, total=   0.3s\n",
      "[CV] class_weight=balanced, max_depth=3, max_features=0.5, n_estimators=100 \n",
      "[CV]  class_weight=balanced, max_depth=3, max_features=0.5, n_estimators=100, total=   0.3s\n",
      "[CV] class_weight=balanced, max_depth=3, max_features=0.5, n_estimators=100 \n",
      "[CV]  class_weight=balanced, max_depth=3, max_features=0.5, n_estimators=100, total=   0.3s\n",
      "[CV] class_weight=balanced, max_depth=3, max_features=0.5, n_estimators=100 \n",
      "[CV]  class_weight=balanced, max_depth=3, max_features=0.5, n_estimators=100, total=   0.3s\n",
      "[CV] class_weight=balanced, max_depth=3, max_features=0.5, n_estimators=100 \n",
      "[CV]  class_weight=balanced, max_depth=3, max_features=0.5, n_estimators=100, total=   0.3s\n",
      "[CV] class_weight=balanced, max_depth=3, max_features=0.5, n_estimators=100 \n",
      "[CV]  class_weight=balanced, max_depth=3, max_features=0.5, n_estimators=100, total=   0.3s\n",
      "[CV] class_weight=balanced, max_depth=3, max_features=0.7, n_estimators=100 \n",
      "[CV]  class_weight=balanced, max_depth=3, max_features=0.7, n_estimators=100, total=   0.3s\n",
      "[CV] class_weight=balanced, max_depth=3, max_features=0.7, n_estimators=100 \n",
      "[CV]  class_weight=balanced, max_depth=3, max_features=0.7, n_estimators=100, total=   0.3s\n",
      "[CV] class_weight=balanced, max_depth=3, max_features=0.7, n_estimators=100 \n",
      "[CV]  class_weight=balanced, max_depth=3, max_features=0.7, n_estimators=100, total=   0.3s\n",
      "[CV] class_weight=balanced, max_depth=3, max_features=0.7, n_estimators=100 \n",
      "[CV]  class_weight=balanced, max_depth=3, max_features=0.7, n_estimators=100, total=   0.4s\n",
      "[CV] class_weight=balanced, max_depth=3, max_features=0.7, n_estimators=100 \n",
      "[CV]  class_weight=balanced, max_depth=3, max_features=0.7, n_estimators=100, total=   0.3s\n",
      "[CV] class_weight=balanced, max_depth=3, max_features=0.9, n_estimators=100 \n",
      "[CV]  class_weight=balanced, max_depth=3, max_features=0.9, n_estimators=100, total=   0.3s\n",
      "[CV] class_weight=balanced, max_depth=3, max_features=0.9, n_estimators=100 \n",
      "[CV]  class_weight=balanced, max_depth=3, max_features=0.9, n_estimators=100, total=   0.3s\n",
      "[CV] class_weight=balanced, max_depth=3, max_features=0.9, n_estimators=100 \n",
      "[CV]  class_weight=balanced, max_depth=3, max_features=0.9, n_estimators=100, total=   0.3s\n",
      "[CV] class_weight=balanced, max_depth=3, max_features=0.9, n_estimators=100 \n",
      "[CV]  class_weight=balanced, max_depth=3, max_features=0.9, n_estimators=100, total=   0.3s\n",
      "[CV] class_weight=balanced, max_depth=3, max_features=0.9, n_estimators=100 \n",
      "[CV]  class_weight=balanced, max_depth=3, max_features=0.9, n_estimators=100, total=   0.4s\n",
      "[CV] class_weight=balanced, max_depth=5, max_features=0.5, n_estimators=100 \n",
      "[CV]  class_weight=balanced, max_depth=5, max_features=0.5, n_estimators=100, total=   0.3s\n",
      "[CV] class_weight=balanced, max_depth=5, max_features=0.5, n_estimators=100 \n",
      "[CV]  class_weight=balanced, max_depth=5, max_features=0.5, n_estimators=100, total=   0.3s\n",
      "[CV] class_weight=balanced, max_depth=5, max_features=0.5, n_estimators=100 \n",
      "[CV]  class_weight=balanced, max_depth=5, max_features=0.5, n_estimators=100, total=   0.3s\n",
      "[CV] class_weight=balanced, max_depth=5, max_features=0.5, n_estimators=100 \n",
      "[CV]  class_weight=balanced, max_depth=5, max_features=0.5, n_estimators=100, total=   0.4s\n",
      "[CV] class_weight=balanced, max_depth=5, max_features=0.5, n_estimators=100 \n",
      "[CV]  class_weight=balanced, max_depth=5, max_features=0.5, n_estimators=100, total=   0.5s\n",
      "[CV] class_weight=balanced, max_depth=5, max_features=0.7, n_estimators=100 \n",
      "[CV]  class_weight=balanced, max_depth=5, max_features=0.7, n_estimators=100, total=   0.4s\n",
      "[CV] class_weight=balanced, max_depth=5, max_features=0.7, n_estimators=100 \n",
      "[CV]  class_weight=balanced, max_depth=5, max_features=0.7, n_estimators=100, total=   0.5s\n",
      "[CV] class_weight=balanced, max_depth=5, max_features=0.7, n_estimators=100 \n",
      "[CV]  class_weight=balanced, max_depth=5, max_features=0.7, n_estimators=100, total=   0.4s\n",
      "[CV] class_weight=balanced, max_depth=5, max_features=0.7, n_estimators=100 \n",
      "[CV]  class_weight=balanced, max_depth=5, max_features=0.7, n_estimators=100, total=   0.5s\n",
      "[CV] class_weight=balanced, max_depth=5, max_features=0.7, n_estimators=100 \n",
      "[CV]  class_weight=balanced, max_depth=5, max_features=0.7, n_estimators=100, total=   0.5s\n",
      "[CV] class_weight=balanced, max_depth=5, max_features=0.9, n_estimators=100 \n",
      "[CV]  class_weight=balanced, max_depth=5, max_features=0.9, n_estimators=100, total=   0.4s\n",
      "[CV] class_weight=balanced, max_depth=5, max_features=0.9, n_estimators=100 \n",
      "[CV]  class_weight=balanced, max_depth=5, max_features=0.9, n_estimators=100, total=   0.5s\n",
      "[CV] class_weight=balanced, max_depth=5, max_features=0.9, n_estimators=100 \n",
      "[CV]  class_weight=balanced, max_depth=5, max_features=0.9, n_estimators=100, total=   0.4s\n",
      "[CV] class_weight=balanced, max_depth=5, max_features=0.9, n_estimators=100 \n",
      "[CV]  class_weight=balanced, max_depth=5, max_features=0.9, n_estimators=100, total=   0.4s\n",
      "[CV] class_weight=balanced, max_depth=5, max_features=0.9, n_estimators=100 \n",
      "[CV]  class_weight=balanced, max_depth=5, max_features=0.9, n_estimators=100, total=   0.4s\n",
      "[CV] class_weight=balanced, max_depth=7, max_features=0.5, n_estimators=100 \n",
      "[CV]  class_weight=balanced, max_depth=7, max_features=0.5, n_estimators=100, total=   0.3s\n",
      "[CV] class_weight=balanced, max_depth=7, max_features=0.5, n_estimators=100 \n",
      "[CV]  class_weight=balanced, max_depth=7, max_features=0.5, n_estimators=100, total=   0.3s\n",
      "[CV] class_weight=balanced, max_depth=7, max_features=0.5, n_estimators=100 \n",
      "[CV]  class_weight=balanced, max_depth=7, max_features=0.5, n_estimators=100, total=   0.3s\n",
      "[CV] class_weight=balanced, max_depth=7, max_features=0.5, n_estimators=100 \n",
      "[CV]  class_weight=balanced, max_depth=7, max_features=0.5, n_estimators=100, total=   0.3s\n",
      "[CV] class_weight=balanced, max_depth=7, max_features=0.5, n_estimators=100 \n",
      "[CV]  class_weight=balanced, max_depth=7, max_features=0.5, n_estimators=100, total=   0.3s\n",
      "[CV] class_weight=balanced, max_depth=7, max_features=0.7, n_estimators=100 \n",
      "[CV]  class_weight=balanced, max_depth=7, max_features=0.7, n_estimators=100, total=   0.3s\n",
      "[CV] class_weight=balanced, max_depth=7, max_features=0.7, n_estimators=100 \n",
      "[CV]  class_weight=balanced, max_depth=7, max_features=0.7, n_estimators=100, total=   0.3s\n",
      "[CV] class_weight=balanced, max_depth=7, max_features=0.7, n_estimators=100 \n",
      "[CV]  class_weight=balanced, max_depth=7, max_features=0.7, n_estimators=100, total=   0.3s\n",
      "[CV] class_weight=balanced, max_depth=7, max_features=0.7, n_estimators=100 \n",
      "[CV]  class_weight=balanced, max_depth=7, max_features=0.7, n_estimators=100, total=   0.3s\n",
      "[CV] class_weight=balanced, max_depth=7, max_features=0.7, n_estimators=100 \n",
      "[CV]  class_weight=balanced, max_depth=7, max_features=0.7, n_estimators=100, total=   0.3s\n",
      "[CV] class_weight=balanced, max_depth=7, max_features=0.9, n_estimators=100 \n",
      "[CV]  class_weight=balanced, max_depth=7, max_features=0.9, n_estimators=100, total=   0.3s\n",
      "[CV] class_weight=balanced, max_depth=7, max_features=0.9, n_estimators=100 \n",
      "[CV]  class_weight=balanced, max_depth=7, max_features=0.9, n_estimators=100, total=   0.3s\n",
      "[CV] class_weight=balanced, max_depth=7, max_features=0.9, n_estimators=100 \n",
      "[CV]  class_weight=balanced, max_depth=7, max_features=0.9, n_estimators=100, total=   0.3s\n",
      "[CV] class_weight=balanced, max_depth=7, max_features=0.9, n_estimators=100 \n",
      "[CV]  class_weight=balanced, max_depth=7, max_features=0.9, n_estimators=100, total=   0.3s\n",
      "[CV] class_weight=balanced, max_depth=7, max_features=0.9, n_estimators=100 \n",
      "[CV]  class_weight=balanced, max_depth=7, max_features=0.9, n_estimators=100, total=   0.3s\n"
     ]
    },
    {
     "name": "stderr",
     "output_type": "stream",
     "text": [
      "[Parallel(n_jobs=1)]: Done  90 out of  90 | elapsed:   32.3s finished\n"
     ]
    },
    {
     "data": {
      "text/plain": [
       "GridSearchCV(cv=5, error_score=nan,\n",
       "             estimator=RandomForestClassifier(bootstrap=True, ccp_alpha=0.0,\n",
       "                                              class_weight=None,\n",
       "                                              criterion='gini', max_depth=None,\n",
       "                                              max_features='auto',\n",
       "                                              max_leaf_nodes=None,\n",
       "                                              max_samples=None,\n",
       "                                              min_impurity_decrease=0.0,\n",
       "                                              min_impurity_split=None,\n",
       "                                              min_samples_leaf=1,\n",
       "                                              min_samples_split=2,\n",
       "                                              min_weight_fraction_leaf=0.0,\n",
       "                                              n_estimators=100, n_jobs=4,\n",
       "                                              oob_score=False, random_state=64,\n",
       "                                              verbose=0, warm_start=False),\n",
       "             iid='deprecated', n_jobs=None,\n",
       "             param_grid={'class_weight': (None, 'balanced'),\n",
       "                         'max_depth': (3, 5, 7),\n",
       "                         'max_features': (0.5, 0.7, 0.9),\n",
       "                         'n_estimators': (100,)},\n",
       "             pre_dispatch='2*n_jobs', refit=True, return_train_score=False,\n",
       "             scoring='f1', verbose=2)"
      ]
     },
     "execution_count": 24,
     "metadata": {},
     "output_type": "execute_result"
    }
   ],
   "source": [
    "rf_clf.fit(X_train, y_train)"
   ]
  },
  {
   "cell_type": "code",
   "execution_count": 41,
   "metadata": {},
   "outputs": [],
   "source": [
    "# svm\n",
    "svc_base = SVC(random_state=SEED)\n",
    "svc_param_grid = {\n",
    "    \"C\": (0.01, 0.1, 1.0, 10.0, 100.0), \"kernel\": ('linear', 'poly', 'rbf', 'sigmoid'), \n",
    "    \"gamma\": (\"auto\", \"scale\")\n",
    "}\n",
    "svc_clf = GridSearchCV(svc_base, svc_param_grid, \"f1\", verbose=2, cv=5)"
   ]
  },
  {
   "cell_type": "code",
   "execution_count": 42,
   "metadata": {},
   "outputs": [
    {
     "name": "stdout",
     "output_type": "stream",
     "text": [
      "Fitting 5 folds for each of 40 candidates, totalling 200 fits\n",
      "[CV] C=0.01, gamma=auto, kernel=linear ...............................\n",
      "[CV] ................ C=0.01, gamma=auto, kernel=linear, total=   0.0s\n",
      "[CV] C=0.01, gamma=auto, kernel=linear ...............................\n",
      "[CV] ................ C=0.01, gamma=auto, kernel=linear, total=   0.0s\n",
      "[CV] C=0.01, gamma=auto, kernel=linear ...............................\n",
      "[CV] ................ C=0.01, gamma=auto, kernel=linear, total=   0.0s\n",
      "[CV] C=0.01, gamma=auto, kernel=linear ...............................\n",
      "[CV] ................ C=0.01, gamma=auto, kernel=linear, total=   0.0s\n",
      "[CV] C=0.01, gamma=auto, kernel=linear ...............................\n",
      "[CV] ................ C=0.01, gamma=auto, kernel=linear, total=   0.0s\n",
      "[CV] C=0.01, gamma=auto, kernel=poly .................................\n",
      "[CV] .................. C=0.01, gamma=auto, kernel=poly, total=   0.0s\n",
      "[CV] C=0.01, gamma=auto, kernel=poly .................................\n",
      "[CV] .................. C=0.01, gamma=auto, kernel=poly, total=   0.0s\n",
      "[CV] C=0.01, gamma=auto, kernel=poly .................................\n",
      "[CV] .................. C=0.01, gamma=auto, kernel=poly, total=   0.0s\n",
      "[CV] C=0.01, gamma=auto, kernel=poly .................................\n",
      "[CV] .................. C=0.01, gamma=auto, kernel=poly, total=   0.0s\n",
      "[CV] C=0.01, gamma=auto, kernel=poly .................................\n",
      "[CV] .................. C=0.01, gamma=auto, kernel=poly, total=   0.0s\n",
      "[CV] C=0.01, gamma=auto, kernel=rbf ..................................\n",
      "[CV] ................... C=0.01, gamma=auto, kernel=rbf, total=   0.0s\n",
      "[CV] C=0.01, gamma=auto, kernel=rbf ..................................\n",
      "[CV] ................... C=0.01, gamma=auto, kernel=rbf, total=   0.0s\n",
      "[CV] C=0.01, gamma=auto, kernel=rbf ..................................\n",
      "[CV] ................... C=0.01, gamma=auto, kernel=rbf, total=   0.0s\n",
      "[CV] C=0.01, gamma=auto, kernel=rbf ..................................\n",
      "[CV] ................... C=0.01, gamma=auto, kernel=rbf, total=   0.0s\n",
      "[CV] C=0.01, gamma=auto, kernel=rbf ..................................\n"
     ]
    },
    {
     "name": "stderr",
     "output_type": "stream",
     "text": [
      "[Parallel(n_jobs=1)]: Using backend SequentialBackend with 1 concurrent workers.\n",
      "[Parallel(n_jobs=1)]: Done   1 out of   1 | elapsed:    0.0s remaining:    0.0s\n"
     ]
    },
    {
     "name": "stdout",
     "output_type": "stream",
     "text": [
      "[CV] ................... C=0.01, gamma=auto, kernel=rbf, total=   0.0s\n",
      "[CV] C=0.01, gamma=auto, kernel=sigmoid ..............................\n",
      "[CV] ............... C=0.01, gamma=auto, kernel=sigmoid, total=   0.0s\n",
      "[CV] C=0.01, gamma=auto, kernel=sigmoid ..............................\n",
      "[CV] ............... C=0.01, gamma=auto, kernel=sigmoid, total=   0.0s\n",
      "[CV] C=0.01, gamma=auto, kernel=sigmoid ..............................\n",
      "[CV] ............... C=0.01, gamma=auto, kernel=sigmoid, total=   0.0s\n",
      "[CV] C=0.01, gamma=auto, kernel=sigmoid ..............................\n",
      "[CV] ............... C=0.01, gamma=auto, kernel=sigmoid, total=   0.0s\n",
      "[CV] C=0.01, gamma=auto, kernel=sigmoid ..............................\n",
      "[CV] ............... C=0.01, gamma=auto, kernel=sigmoid, total=   0.0s\n",
      "[CV] C=0.01, gamma=scale, kernel=linear ..............................\n",
      "[CV] ............... C=0.01, gamma=scale, kernel=linear, total=   0.0s\n",
      "[CV] C=0.01, gamma=scale, kernel=linear ..............................\n",
      "[CV] ............... C=0.01, gamma=scale, kernel=linear, total=   0.0s\n",
      "[CV] C=0.01, gamma=scale, kernel=linear ..............................\n",
      "[CV] ............... C=0.01, gamma=scale, kernel=linear, total=   0.0s\n",
      "[CV] C=0.01, gamma=scale, kernel=linear ..............................\n",
      "[CV] ............... C=0.01, gamma=scale, kernel=linear, total=   0.0s\n",
      "[CV] C=0.01, gamma=scale, kernel=linear ..............................\n",
      "[CV] ............... C=0.01, gamma=scale, kernel=linear, total=   0.0s\n",
      "[CV] C=0.01, gamma=scale, kernel=poly ................................\n",
      "[CV] ................. C=0.01, gamma=scale, kernel=poly, total=   0.0s\n",
      "[CV] C=0.01, gamma=scale, kernel=poly ................................\n",
      "[CV] ................. C=0.01, gamma=scale, kernel=poly, total=   0.0s\n",
      "[CV] C=0.01, gamma=scale, kernel=poly ................................\n",
      "[CV] ................. C=0.01, gamma=scale, kernel=poly, total=   0.0s\n",
      "[CV] C=0.01, gamma=scale, kernel=poly ................................\n",
      "[CV] ................. C=0.01, gamma=scale, kernel=poly, total=   0.0s\n",
      "[CV] C=0.01, gamma=scale, kernel=poly ................................\n",
      "[CV] ................. C=0.01, gamma=scale, kernel=poly, total=   0.0s\n",
      "[CV] C=0.01, gamma=scale, kernel=rbf .................................\n",
      "[CV] .................. C=0.01, gamma=scale, kernel=rbf, total=   0.0s\n",
      "[CV] C=0.01, gamma=scale, kernel=rbf .................................\n",
      "[CV] .................. C=0.01, gamma=scale, kernel=rbf, total=   0.0s\n",
      "[CV] C=0.01, gamma=scale, kernel=rbf .................................\n",
      "[CV] .................. C=0.01, gamma=scale, kernel=rbf, total=   0.0s\n",
      "[CV] C=0.01, gamma=scale, kernel=rbf .................................\n",
      "[CV] .................. C=0.01, gamma=scale, kernel=rbf, total=   0.0s\n",
      "[CV] C=0.01, gamma=scale, kernel=rbf .................................\n",
      "[CV] .................. C=0.01, gamma=scale, kernel=rbf, total=   0.0s\n",
      "[CV] C=0.01, gamma=scale, kernel=sigmoid .............................\n",
      "[CV] .............. C=0.01, gamma=scale, kernel=sigmoid, total=   0.0s\n",
      "[CV] C=0.01, gamma=scale, kernel=sigmoid .............................\n",
      "[CV] .............. C=0.01, gamma=scale, kernel=sigmoid, total=   0.0s\n",
      "[CV] C=0.01, gamma=scale, kernel=sigmoid .............................\n",
      "[CV] .............. C=0.01, gamma=scale, kernel=sigmoid, total=   0.0s\n",
      "[CV] C=0.01, gamma=scale, kernel=sigmoid .............................\n",
      "[CV] .............. C=0.01, gamma=scale, kernel=sigmoid, total=   0.0s\n",
      "[CV] C=0.01, gamma=scale, kernel=sigmoid .............................\n",
      "[CV] .............. C=0.01, gamma=scale, kernel=sigmoid, total=   0.0s\n",
      "[CV] C=0.1, gamma=auto, kernel=linear ................................\n",
      "[CV] ................. C=0.1, gamma=auto, kernel=linear, total=   0.0s\n",
      "[CV] C=0.1, gamma=auto, kernel=linear ................................\n",
      "[CV] ................. C=0.1, gamma=auto, kernel=linear, total=   0.0s\n",
      "[CV] C=0.1, gamma=auto, kernel=linear ................................\n",
      "[CV] ................. C=0.1, gamma=auto, kernel=linear, total=   0.0s\n",
      "[CV] C=0.1, gamma=auto, kernel=linear ................................\n",
      "[CV] ................. C=0.1, gamma=auto, kernel=linear, total=   0.0s\n",
      "[CV] C=0.1, gamma=auto, kernel=linear ................................\n",
      "[CV] ................. C=0.1, gamma=auto, kernel=linear, total=   0.0s\n",
      "[CV] C=0.1, gamma=auto, kernel=poly ..................................\n",
      "[CV] ................... C=0.1, gamma=auto, kernel=poly, total=   0.0s\n",
      "[CV] C=0.1, gamma=auto, kernel=poly ..................................\n",
      "[CV] ................... C=0.1, gamma=auto, kernel=poly, total=   0.0s\n",
      "[CV] C=0.1, gamma=auto, kernel=poly ..................................\n",
      "[CV] ................... C=0.1, gamma=auto, kernel=poly, total=   0.0s\n",
      "[CV] C=0.1, gamma=auto, kernel=poly ..................................\n",
      "[CV] ................... C=0.1, gamma=auto, kernel=poly, total=   0.0s\n",
      "[CV] C=0.1, gamma=auto, kernel=poly ..................................\n",
      "[CV] ................... C=0.1, gamma=auto, kernel=poly, total=   0.0s\n",
      "[CV] C=0.1, gamma=auto, kernel=rbf ...................................\n",
      "[CV] .................... C=0.1, gamma=auto, kernel=rbf, total=   0.0s\n",
      "[CV] C=0.1, gamma=auto, kernel=rbf ...................................\n",
      "[CV] .................... C=0.1, gamma=auto, kernel=rbf, total=   0.0s\n",
      "[CV] C=0.1, gamma=auto, kernel=rbf ...................................\n",
      "[CV] .................... C=0.1, gamma=auto, kernel=rbf, total=   0.0s\n",
      "[CV] C=0.1, gamma=auto, kernel=rbf ...................................\n",
      "[CV] .................... C=0.1, gamma=auto, kernel=rbf, total=   0.0s\n",
      "[CV] C=0.1, gamma=auto, kernel=rbf ...................................\n",
      "[CV] .................... C=0.1, gamma=auto, kernel=rbf, total=   0.0s\n",
      "[CV] C=0.1, gamma=auto, kernel=sigmoid ...............................\n",
      "[CV] ................ C=0.1, gamma=auto, kernel=sigmoid, total=   0.0s\n",
      "[CV] C=0.1, gamma=auto, kernel=sigmoid ...............................\n",
      "[CV] ................ C=0.1, gamma=auto, kernel=sigmoid, total=   0.0s\n",
      "[CV] C=0.1, gamma=auto, kernel=sigmoid ...............................\n",
      "[CV] ................ C=0.1, gamma=auto, kernel=sigmoid, total=   0.0s\n",
      "[CV] C=0.1, gamma=auto, kernel=sigmoid ...............................\n",
      "[CV] ................ C=0.1, gamma=auto, kernel=sigmoid, total=   0.0s\n",
      "[CV] C=0.1, gamma=auto, kernel=sigmoid ...............................\n",
      "[CV] ................ C=0.1, gamma=auto, kernel=sigmoid, total=   0.0s\n",
      "[CV] C=0.1, gamma=scale, kernel=linear ...............................\n",
      "[CV] ................ C=0.1, gamma=scale, kernel=linear, total=   0.0s\n",
      "[CV] C=0.1, gamma=scale, kernel=linear ...............................\n",
      "[CV] ................ C=0.1, gamma=scale, kernel=linear, total=   0.0s\n",
      "[CV] C=0.1, gamma=scale, kernel=linear ...............................\n",
      "[CV] ................ C=0.1, gamma=scale, kernel=linear, total=   0.0s\n",
      "[CV] C=0.1, gamma=scale, kernel=linear ...............................\n",
      "[CV] ................ C=0.1, gamma=scale, kernel=linear, total=   0.0s\n",
      "[CV] C=0.1, gamma=scale, kernel=linear ...............................\n",
      "[CV] ................ C=0.1, gamma=scale, kernel=linear, total=   0.0s\n",
      "[CV] C=0.1, gamma=scale, kernel=poly .................................\n",
      "[CV] .................. C=0.1, gamma=scale, kernel=poly, total=   0.0s\n",
      "[CV] C=0.1, gamma=scale, kernel=poly .................................\n",
      "[CV] .................. C=0.1, gamma=scale, kernel=poly, total=   0.0s\n",
      "[CV] C=0.1, gamma=scale, kernel=poly .................................\n",
      "[CV] .................. C=0.1, gamma=scale, kernel=poly, total=   0.0s\n",
      "[CV] C=0.1, gamma=scale, kernel=poly .................................\n",
      "[CV] .................. C=0.1, gamma=scale, kernel=poly, total=   0.0s\n",
      "[CV] C=0.1, gamma=scale, kernel=poly .................................\n",
      "[CV] .................. C=0.1, gamma=scale, kernel=poly, total=   0.0s\n",
      "[CV] C=0.1, gamma=scale, kernel=rbf ..................................\n",
      "[CV] ................... C=0.1, gamma=scale, kernel=rbf, total=   0.0s\n",
      "[CV] C=0.1, gamma=scale, kernel=rbf ..................................\n",
      "[CV] ................... C=0.1, gamma=scale, kernel=rbf, total=   0.0s\n",
      "[CV] C=0.1, gamma=scale, kernel=rbf ..................................\n",
      "[CV] ................... C=0.1, gamma=scale, kernel=rbf, total=   0.0s\n",
      "[CV] C=0.1, gamma=scale, kernel=rbf ..................................\n",
      "[CV] ................... C=0.1, gamma=scale, kernel=rbf, total=   0.0s\n",
      "[CV] C=0.1, gamma=scale, kernel=rbf ..................................\n",
      "[CV] ................... C=0.1, gamma=scale, kernel=rbf, total=   0.0s\n",
      "[CV] C=0.1, gamma=scale, kernel=sigmoid ..............................\n",
      "[CV] ............... C=0.1, gamma=scale, kernel=sigmoid, total=   0.0s\n",
      "[CV] C=0.1, gamma=scale, kernel=sigmoid ..............................\n",
      "[CV] ............... C=0.1, gamma=scale, kernel=sigmoid, total=   0.0s\n",
      "[CV] C=0.1, gamma=scale, kernel=sigmoid ..............................\n",
      "[CV] ............... C=0.1, gamma=scale, kernel=sigmoid, total=   0.0s\n",
      "[CV] C=0.1, gamma=scale, kernel=sigmoid ..............................\n",
      "[CV] ............... C=0.1, gamma=scale, kernel=sigmoid, total=   0.0s\n",
      "[CV] C=0.1, gamma=scale, kernel=sigmoid ..............................\n",
      "[CV] ............... C=0.1, gamma=scale, kernel=sigmoid, total=   0.0s\n",
      "[CV] C=1.0, gamma=auto, kernel=linear ................................\n",
      "[CV] ................. C=1.0, gamma=auto, kernel=linear, total=   0.0s\n",
      "[CV] C=1.0, gamma=auto, kernel=linear ................................\n",
      "[CV] ................. C=1.0, gamma=auto, kernel=linear, total=   0.0s\n",
      "[CV] C=1.0, gamma=auto, kernel=linear ................................\n",
      "[CV] ................. C=1.0, gamma=auto, kernel=linear, total=   0.0s\n",
      "[CV] C=1.0, gamma=auto, kernel=linear ................................\n",
      "[CV] ................. C=1.0, gamma=auto, kernel=linear, total=   0.0s\n",
      "[CV] C=1.0, gamma=auto, kernel=linear ................................\n",
      "[CV] ................. C=1.0, gamma=auto, kernel=linear, total=   0.0s\n",
      "[CV] C=1.0, gamma=auto, kernel=poly ..................................\n",
      "[CV] ................... C=1.0, gamma=auto, kernel=poly, total=   0.0s\n",
      "[CV] C=1.0, gamma=auto, kernel=poly ..................................\n",
      "[CV] ................... C=1.0, gamma=auto, kernel=poly, total=   0.0s\n",
      "[CV] C=1.0, gamma=auto, kernel=poly ..................................\n",
      "[CV] ................... C=1.0, gamma=auto, kernel=poly, total=   0.0s\n",
      "[CV] C=1.0, gamma=auto, kernel=poly ..................................\n",
      "[CV] ................... C=1.0, gamma=auto, kernel=poly, total=   0.0s\n",
      "[CV] C=1.0, gamma=auto, kernel=poly ..................................\n",
      "[CV] ................... C=1.0, gamma=auto, kernel=poly, total=   0.0s\n",
      "[CV] C=1.0, gamma=auto, kernel=rbf ...................................\n",
      "[CV] .................... C=1.0, gamma=auto, kernel=rbf, total=   0.0s\n",
      "[CV] C=1.0, gamma=auto, kernel=rbf ...................................\n",
      "[CV] .................... C=1.0, gamma=auto, kernel=rbf, total=   0.0s\n",
      "[CV] C=1.0, gamma=auto, kernel=rbf ...................................\n",
      "[CV] .................... C=1.0, gamma=auto, kernel=rbf, total=   0.0s\n",
      "[CV] C=1.0, gamma=auto, kernel=rbf ...................................\n",
      "[CV] .................... C=1.0, gamma=auto, kernel=rbf, total=   0.0s\n",
      "[CV] C=1.0, gamma=auto, kernel=rbf ...................................\n",
      "[CV] .................... C=1.0, gamma=auto, kernel=rbf, total=   0.0s\n",
      "[CV] C=1.0, gamma=auto, kernel=sigmoid ...............................\n",
      "[CV] ................ C=1.0, gamma=auto, kernel=sigmoid, total=   0.0s\n",
      "[CV] C=1.0, gamma=auto, kernel=sigmoid ...............................\n",
      "[CV] ................ C=1.0, gamma=auto, kernel=sigmoid, total=   0.0s\n",
      "[CV] C=1.0, gamma=auto, kernel=sigmoid ...............................\n",
      "[CV] ................ C=1.0, gamma=auto, kernel=sigmoid, total=   0.0s\n",
      "[CV] C=1.0, gamma=auto, kernel=sigmoid ...............................\n",
      "[CV] ................ C=1.0, gamma=auto, kernel=sigmoid, total=   0.0s\n",
      "[CV] C=1.0, gamma=auto, kernel=sigmoid ...............................\n",
      "[CV] ................ C=1.0, gamma=auto, kernel=sigmoid, total=   0.0s\n",
      "[CV] C=1.0, gamma=scale, kernel=linear ...............................\n",
      "[CV] ................ C=1.0, gamma=scale, kernel=linear, total=   0.0s\n",
      "[CV] C=1.0, gamma=scale, kernel=linear ...............................\n",
      "[CV] ................ C=1.0, gamma=scale, kernel=linear, total=   0.0s\n",
      "[CV] C=1.0, gamma=scale, kernel=linear ...............................\n",
      "[CV] ................ C=1.0, gamma=scale, kernel=linear, total=   0.0s\n",
      "[CV] C=1.0, gamma=scale, kernel=linear ...............................\n",
      "[CV] ................ C=1.0, gamma=scale, kernel=linear, total=   0.0s\n",
      "[CV] C=1.0, gamma=scale, kernel=linear ...............................\n",
      "[CV] ................ C=1.0, gamma=scale, kernel=linear, total=   0.0s\n",
      "[CV] C=1.0, gamma=scale, kernel=poly .................................\n",
      "[CV] .................. C=1.0, gamma=scale, kernel=poly, total=   0.0s\n",
      "[CV] C=1.0, gamma=scale, kernel=poly .................................\n",
      "[CV] .................. C=1.0, gamma=scale, kernel=poly, total=   0.0s\n",
      "[CV] C=1.0, gamma=scale, kernel=poly .................................\n",
      "[CV] .................. C=1.0, gamma=scale, kernel=poly, total=   0.0s\n",
      "[CV] C=1.0, gamma=scale, kernel=poly .................................\n",
      "[CV] .................. C=1.0, gamma=scale, kernel=poly, total=   0.0s\n",
      "[CV] C=1.0, gamma=scale, kernel=poly .................................\n",
      "[CV] .................. C=1.0, gamma=scale, kernel=poly, total=   0.0s\n",
      "[CV] C=1.0, gamma=scale, kernel=rbf ..................................\n",
      "[CV] ................... C=1.0, gamma=scale, kernel=rbf, total=   0.0s\n",
      "[CV] C=1.0, gamma=scale, kernel=rbf ..................................\n",
      "[CV] ................... C=1.0, gamma=scale, kernel=rbf, total=   0.0s\n",
      "[CV] C=1.0, gamma=scale, kernel=rbf ..................................\n",
      "[CV] ................... C=1.0, gamma=scale, kernel=rbf, total=   0.0s\n",
      "[CV] C=1.0, gamma=scale, kernel=rbf ..................................\n",
      "[CV] ................... C=1.0, gamma=scale, kernel=rbf, total=   0.0s\n",
      "[CV] C=1.0, gamma=scale, kernel=rbf ..................................\n",
      "[CV] ................... C=1.0, gamma=scale, kernel=rbf, total=   0.0s\n",
      "[CV] C=1.0, gamma=scale, kernel=sigmoid ..............................\n",
      "[CV] ............... C=1.0, gamma=scale, kernel=sigmoid, total=   0.0s\n",
      "[CV] C=1.0, gamma=scale, kernel=sigmoid ..............................\n",
      "[CV] ............... C=1.0, gamma=scale, kernel=sigmoid, total=   0.0s\n",
      "[CV] C=1.0, gamma=scale, kernel=sigmoid ..............................\n",
      "[CV] ............... C=1.0, gamma=scale, kernel=sigmoid, total=   0.0s\n",
      "[CV] C=1.0, gamma=scale, kernel=sigmoid ..............................\n",
      "[CV] ............... C=1.0, gamma=scale, kernel=sigmoid, total=   0.0s\n",
      "[CV] C=1.0, gamma=scale, kernel=sigmoid ..............................\n",
      "[CV] ............... C=1.0, gamma=scale, kernel=sigmoid, total=   0.0s\n",
      "[CV] C=10.0, gamma=auto, kernel=linear ...............................\n",
      "[CV] ................ C=10.0, gamma=auto, kernel=linear, total=   0.0s\n",
      "[CV] C=10.0, gamma=auto, kernel=linear ...............................\n",
      "[CV] ................ C=10.0, gamma=auto, kernel=linear, total=   0.0s\n",
      "[CV] C=10.0, gamma=auto, kernel=linear ...............................\n",
      "[CV] ................ C=10.0, gamma=auto, kernel=linear, total=   0.0s\n",
      "[CV] C=10.0, gamma=auto, kernel=linear ...............................\n",
      "[CV] ................ C=10.0, gamma=auto, kernel=linear, total=   0.0s\n",
      "[CV] C=10.0, gamma=auto, kernel=linear ...............................\n",
      "[CV] ................ C=10.0, gamma=auto, kernel=linear, total=   0.0s\n",
      "[CV] C=10.0, gamma=auto, kernel=poly .................................\n",
      "[CV] .................. C=10.0, gamma=auto, kernel=poly, total=   0.0s\n",
      "[CV] C=10.0, gamma=auto, kernel=poly .................................\n",
      "[CV] .................. C=10.0, gamma=auto, kernel=poly, total=   0.0s\n",
      "[CV] C=10.0, gamma=auto, kernel=poly .................................\n",
      "[CV] .................. C=10.0, gamma=auto, kernel=poly, total=   0.0s\n",
      "[CV] C=10.0, gamma=auto, kernel=poly .................................\n",
      "[CV] .................. C=10.0, gamma=auto, kernel=poly, total=   0.0s\n",
      "[CV] C=10.0, gamma=auto, kernel=poly .................................\n",
      "[CV] .................. C=10.0, gamma=auto, kernel=poly, total=   0.0s\n",
      "[CV] C=10.0, gamma=auto, kernel=rbf ..................................\n",
      "[CV] ................... C=10.0, gamma=auto, kernel=rbf, total=   0.0s\n",
      "[CV] C=10.0, gamma=auto, kernel=rbf ..................................\n",
      "[CV] ................... C=10.0, gamma=auto, kernel=rbf, total=   0.0s\n",
      "[CV] C=10.0, gamma=auto, kernel=rbf ..................................\n",
      "[CV] ................... C=10.0, gamma=auto, kernel=rbf, total=   0.0s\n",
      "[CV] C=10.0, gamma=auto, kernel=rbf ..................................\n",
      "[CV] ................... C=10.0, gamma=auto, kernel=rbf, total=   0.0s\n",
      "[CV] C=10.0, gamma=auto, kernel=rbf ..................................\n",
      "[CV] ................... C=10.0, gamma=auto, kernel=rbf, total=   0.0s\n",
      "[CV] C=10.0, gamma=auto, kernel=sigmoid ..............................\n",
      "[CV] ............... C=10.0, gamma=auto, kernel=sigmoid, total=   0.0s\n",
      "[CV] C=10.0, gamma=auto, kernel=sigmoid ..............................\n",
      "[CV] ............... C=10.0, gamma=auto, kernel=sigmoid, total=   0.0s\n",
      "[CV] C=10.0, gamma=auto, kernel=sigmoid ..............................\n",
      "[CV] ............... C=10.0, gamma=auto, kernel=sigmoid, total=   0.0s\n",
      "[CV] C=10.0, gamma=auto, kernel=sigmoid ..............................\n",
      "[CV] ............... C=10.0, gamma=auto, kernel=sigmoid, total=   0.0s\n",
      "[CV] C=10.0, gamma=auto, kernel=sigmoid ..............................\n",
      "[CV] ............... C=10.0, gamma=auto, kernel=sigmoid, total=   0.0s\n",
      "[CV] C=10.0, gamma=scale, kernel=linear ..............................\n",
      "[CV] ............... C=10.0, gamma=scale, kernel=linear, total=   0.0s\n",
      "[CV] C=10.0, gamma=scale, kernel=linear ..............................\n",
      "[CV] ............... C=10.0, gamma=scale, kernel=linear, total=   0.0s\n",
      "[CV] C=10.0, gamma=scale, kernel=linear ..............................\n",
      "[CV] ............... C=10.0, gamma=scale, kernel=linear, total=   0.0s\n",
      "[CV] C=10.0, gamma=scale, kernel=linear ..............................\n",
      "[CV] ............... C=10.0, gamma=scale, kernel=linear, total=   0.0s\n",
      "[CV] C=10.0, gamma=scale, kernel=linear ..............................\n",
      "[CV] ............... C=10.0, gamma=scale, kernel=linear, total=   0.0s\n",
      "[CV] C=10.0, gamma=scale, kernel=poly ................................\n",
      "[CV] ................. C=10.0, gamma=scale, kernel=poly, total=   0.0s\n",
      "[CV] C=10.0, gamma=scale, kernel=poly ................................\n",
      "[CV] ................. C=10.0, gamma=scale, kernel=poly, total=   0.0s\n",
      "[CV] C=10.0, gamma=scale, kernel=poly ................................\n",
      "[CV] ................. C=10.0, gamma=scale, kernel=poly, total=   0.0s\n",
      "[CV] C=10.0, gamma=scale, kernel=poly ................................\n",
      "[CV] ................. C=10.0, gamma=scale, kernel=poly, total=   0.0s\n",
      "[CV] C=10.0, gamma=scale, kernel=poly ................................\n",
      "[CV] ................. C=10.0, gamma=scale, kernel=poly, total=   0.0s\n",
      "[CV] C=10.0, gamma=scale, kernel=rbf .................................\n",
      "[CV] .................. C=10.0, gamma=scale, kernel=rbf, total=   0.0s\n",
      "[CV] C=10.0, gamma=scale, kernel=rbf .................................\n",
      "[CV] .................. C=10.0, gamma=scale, kernel=rbf, total=   0.0s\n",
      "[CV] C=10.0, gamma=scale, kernel=rbf .................................\n",
      "[CV] .................. C=10.0, gamma=scale, kernel=rbf, total=   0.0s\n",
      "[CV] C=10.0, gamma=scale, kernel=rbf .................................\n",
      "[CV] .................. C=10.0, gamma=scale, kernel=rbf, total=   0.0s\n",
      "[CV] C=10.0, gamma=scale, kernel=rbf .................................\n",
      "[CV] .................. C=10.0, gamma=scale, kernel=rbf, total=   0.0s\n",
      "[CV] C=10.0, gamma=scale, kernel=sigmoid .............................\n",
      "[CV] .............. C=10.0, gamma=scale, kernel=sigmoid, total=   0.0s\n",
      "[CV] C=10.0, gamma=scale, kernel=sigmoid .............................\n",
      "[CV] .............. C=10.0, gamma=scale, kernel=sigmoid, total=   0.0s\n",
      "[CV] C=10.0, gamma=scale, kernel=sigmoid .............................\n",
      "[CV] .............. C=10.0, gamma=scale, kernel=sigmoid, total=   0.0s\n",
      "[CV] C=10.0, gamma=scale, kernel=sigmoid .............................\n",
      "[CV] .............. C=10.0, gamma=scale, kernel=sigmoid, total=   0.0s\n",
      "[CV] C=10.0, gamma=scale, kernel=sigmoid .............................\n",
      "[CV] .............. C=10.0, gamma=scale, kernel=sigmoid, total=   0.0s\n",
      "[CV] C=100.0, gamma=auto, kernel=linear ..............................\n",
      "[CV] ............... C=100.0, gamma=auto, kernel=linear, total=   0.0s\n",
      "[CV] C=100.0, gamma=auto, kernel=linear ..............................\n",
      "[CV] ............... C=100.0, gamma=auto, kernel=linear, total=   0.0s\n",
      "[CV] C=100.0, gamma=auto, kernel=linear ..............................\n",
      "[CV] ............... C=100.0, gamma=auto, kernel=linear, total=   0.0s\n",
      "[CV] C=100.0, gamma=auto, kernel=linear ..............................\n",
      "[CV] ............... C=100.0, gamma=auto, kernel=linear, total=   0.0s\n",
      "[CV] C=100.0, gamma=auto, kernel=linear ..............................\n",
      "[CV] ............... C=100.0, gamma=auto, kernel=linear, total=   0.0s\n",
      "[CV] C=100.0, gamma=auto, kernel=poly ................................\n",
      "[CV] ................. C=100.0, gamma=auto, kernel=poly, total=   0.0s\n",
      "[CV] C=100.0, gamma=auto, kernel=poly ................................\n",
      "[CV] ................. C=100.0, gamma=auto, kernel=poly, total=   0.0s\n",
      "[CV] C=100.0, gamma=auto, kernel=poly ................................\n",
      "[CV] ................. C=100.0, gamma=auto, kernel=poly, total=   0.0s\n",
      "[CV] C=100.0, gamma=auto, kernel=poly ................................\n",
      "[CV] ................. C=100.0, gamma=auto, kernel=poly, total=   0.0s\n",
      "[CV] C=100.0, gamma=auto, kernel=poly ................................\n",
      "[CV] ................. C=100.0, gamma=auto, kernel=poly, total=   0.0s\n",
      "[CV] C=100.0, gamma=auto, kernel=rbf .................................\n",
      "[CV] .................. C=100.0, gamma=auto, kernel=rbf, total=   0.0s\n",
      "[CV] C=100.0, gamma=auto, kernel=rbf .................................\n",
      "[CV] .................. C=100.0, gamma=auto, kernel=rbf, total=   0.0s\n",
      "[CV] C=100.0, gamma=auto, kernel=rbf .................................\n",
      "[CV] .................. C=100.0, gamma=auto, kernel=rbf, total=   0.0s\n",
      "[CV] C=100.0, gamma=auto, kernel=rbf .................................\n",
      "[CV] .................. C=100.0, gamma=auto, kernel=rbf, total=   0.0s\n",
      "[CV] C=100.0, gamma=auto, kernel=rbf .................................\n",
      "[CV] .................. C=100.0, gamma=auto, kernel=rbf, total=   0.0s\n",
      "[CV] C=100.0, gamma=auto, kernel=sigmoid .............................\n",
      "[CV] .............. C=100.0, gamma=auto, kernel=sigmoid, total=   0.0s\n",
      "[CV] C=100.0, gamma=auto, kernel=sigmoid .............................\n",
      "[CV] .............. C=100.0, gamma=auto, kernel=sigmoid, total=   0.0s\n",
      "[CV] C=100.0, gamma=auto, kernel=sigmoid .............................\n",
      "[CV] .............. C=100.0, gamma=auto, kernel=sigmoid, total=   0.0s\n",
      "[CV] C=100.0, gamma=auto, kernel=sigmoid .............................\n",
      "[CV] .............. C=100.0, gamma=auto, kernel=sigmoid, total=   0.0s\n",
      "[CV] C=100.0, gamma=auto, kernel=sigmoid .............................\n",
      "[CV] .............. C=100.0, gamma=auto, kernel=sigmoid, total=   0.0s\n",
      "[CV] C=100.0, gamma=scale, kernel=linear .............................\n",
      "[CV] .............. C=100.0, gamma=scale, kernel=linear, total=   0.0s\n",
      "[CV] C=100.0, gamma=scale, kernel=linear .............................\n",
      "[CV] .............. C=100.0, gamma=scale, kernel=linear, total=   0.0s\n",
      "[CV] C=100.0, gamma=scale, kernel=linear .............................\n",
      "[CV] .............. C=100.0, gamma=scale, kernel=linear, total=   0.0s\n",
      "[CV] C=100.0, gamma=scale, kernel=linear .............................\n",
      "[CV] .............. C=100.0, gamma=scale, kernel=linear, total=   0.0s\n",
      "[CV] C=100.0, gamma=scale, kernel=linear .............................\n",
      "[CV] .............. C=100.0, gamma=scale, kernel=linear, total=   0.0s\n",
      "[CV] C=100.0, gamma=scale, kernel=poly ...............................\n",
      "[CV] ................ C=100.0, gamma=scale, kernel=poly, total=   0.0s\n",
      "[CV] C=100.0, gamma=scale, kernel=poly ...............................\n",
      "[CV] ................ C=100.0, gamma=scale, kernel=poly, total=   0.0s\n",
      "[CV] C=100.0, gamma=scale, kernel=poly ...............................\n",
      "[CV] ................ C=100.0, gamma=scale, kernel=poly, total=   0.0s\n",
      "[CV] C=100.0, gamma=scale, kernel=poly ...............................\n",
      "[CV] ................ C=100.0, gamma=scale, kernel=poly, total=   0.0s\n",
      "[CV] C=100.0, gamma=scale, kernel=poly ...............................\n",
      "[CV] ................ C=100.0, gamma=scale, kernel=poly, total=   0.0s\n",
      "[CV] C=100.0, gamma=scale, kernel=rbf ................................\n",
      "[CV] ................. C=100.0, gamma=scale, kernel=rbf, total=   0.0s\n",
      "[CV] C=100.0, gamma=scale, kernel=rbf ................................\n",
      "[CV] ................. C=100.0, gamma=scale, kernel=rbf, total=   0.0s\n",
      "[CV] C=100.0, gamma=scale, kernel=rbf ................................\n",
      "[CV] ................. C=100.0, gamma=scale, kernel=rbf, total=   0.0s\n",
      "[CV] C=100.0, gamma=scale, kernel=rbf ................................\n",
      "[CV] ................. C=100.0, gamma=scale, kernel=rbf, total=   0.0s\n",
      "[CV] C=100.0, gamma=scale, kernel=rbf ................................\n",
      "[CV] ................. C=100.0, gamma=scale, kernel=rbf, total=   0.0s\n",
      "[CV] C=100.0, gamma=scale, kernel=sigmoid ............................\n",
      "[CV] ............. C=100.0, gamma=scale, kernel=sigmoid, total=   0.0s\n",
      "[CV] C=100.0, gamma=scale, kernel=sigmoid ............................\n",
      "[CV] ............. C=100.0, gamma=scale, kernel=sigmoid, total=   0.0s\n",
      "[CV] C=100.0, gamma=scale, kernel=sigmoid ............................\n",
      "[CV] ............. C=100.0, gamma=scale, kernel=sigmoid, total=   0.0s\n",
      "[CV] C=100.0, gamma=scale, kernel=sigmoid ............................\n",
      "[CV] ............. C=100.0, gamma=scale, kernel=sigmoid, total=   0.0s\n",
      "[CV] C=100.0, gamma=scale, kernel=sigmoid ............................\n",
      "[CV] ............. C=100.0, gamma=scale, kernel=sigmoid, total=   0.0s\n"
     ]
    },
    {
     "name": "stderr",
     "output_type": "stream",
     "text": [
      "[Parallel(n_jobs=1)]: Done 200 out of 200 | elapsed:    1.9s finished\n"
     ]
    },
    {
     "data": {
      "text/plain": [
       "GridSearchCV(cv=5, error_score=nan,\n",
       "             estimator=SVC(C=1.0, break_ties=False, cache_size=200,\n",
       "                           class_weight=None, coef0=0.0,\n",
       "                           decision_function_shape='ovr', degree=3,\n",
       "                           gamma='scale', kernel='rbf', max_iter=-1,\n",
       "                           probability=False, random_state=64, shrinking=True,\n",
       "                           tol=0.001, verbose=False),\n",
       "             iid='deprecated', n_jobs=None,\n",
       "             param_grid={'C': (0.01, 0.1, 1.0, 10.0, 100.0),\n",
       "                         'gamma': ('auto', 'scale'),\n",
       "                         'kernel': ('linear', 'poly', 'rbf', 'sigmoid')},\n",
       "             pre_dispatch='2*n_jobs', refit=True, return_train_score=False,\n",
       "             scoring='f1', verbose=2)"
      ]
     },
     "execution_count": 42,
     "metadata": {},
     "output_type": "execute_result"
    }
   ],
   "source": [
    "svc_clf.fit(X_train, y_train)"
   ]
  },
  {
   "cell_type": "markdown",
   "metadata": {},
   "source": [
    "# 予測"
   ]
  },
  {
   "cell_type": "code",
   "execution_count": 44,
   "metadata": {
    "collapsed": true
   },
   "outputs": [],
   "source": [
    "# Random Forest\n",
    "rf_y_pred = rf_clf.predict(X_test)\n",
    "rf_y_pred = pd.Series(rf_y_pred)"
   ]
  },
  {
   "cell_type": "code",
   "execution_count": 45,
   "metadata": {},
   "outputs": [],
   "source": [
    "# SVC\n",
    "svc_y_pred = svc_clf.predict(X_test)\n",
    "svc_y_pred = pd.Series(svc_y_pred)"
   ]
  },
  {
   "cell_type": "markdown",
   "metadata": {},
   "source": [
    "# 精度の確認"
   ]
  },
  {
   "cell_type": "code",
   "execution_count": 31,
   "metadata": {
    "collapsed": true
   },
   "outputs": [
    {
     "data": {
      "text/plain": [
       "0.9583333333333334"
      ]
     },
     "execution_count": 31,
     "metadata": {},
     "output_type": "execute_result"
    }
   ],
   "source": [
    "# Random Forest\n",
    "f1_score(y_test, rf_y_pred)"
   ]
  },
  {
   "cell_type": "code",
   "execution_count": 33,
   "metadata": {},
   "outputs": [
    {
     "data": {
      "text/plain": [
       "0.9440559440559441"
      ]
     },
     "execution_count": 33,
     "metadata": {},
     "output_type": "execute_result"
    }
   ],
   "source": [
    "accuracy_score(y_test, rf_y_pred)"
   ]
  },
  {
   "cell_type": "code",
   "execution_count": 46,
   "metadata": {},
   "outputs": [
    {
     "data": {
      "text/plain": [
       "0.9746192893401014"
      ]
     },
     "execution_count": 46,
     "metadata": {},
     "output_type": "execute_result"
    }
   ],
   "source": [
    "# SVC\n",
    "f1_score(y_test, svc_y_pred)"
   ]
  },
  {
   "cell_type": "code",
   "execution_count": 47,
   "metadata": {},
   "outputs": [
    {
     "data": {
      "text/plain": [
       "0.965034965034965"
      ]
     },
     "execution_count": 47,
     "metadata": {},
     "output_type": "execute_result"
    }
   ],
   "source": [
    "accuracy_score(y_test, svc_y_pred)"
   ]
  },
  {
   "cell_type": "markdown",
   "metadata": {},
   "source": [
    "どちらも高い値に見える。\n",
    "Random ForestよりSVCの方が少し値が高い"
   ]
  },
  {
   "cell_type": "markdown",
   "metadata": {},
   "source": [
    "# 仮説の確認\n",
    "最初に立てた仮説を確認してください．\n",
    "\n",
    "予測傾向など精度ベースでも仮説を確認することはできますが，決定木や可視化を用いる方が楽かもしれません．"
   ]
  },
  {
   "cell_type": "markdown",
   "metadata": {},
   "source": []
  },
  {
   "cell_type": "code",
   "execution_count": 48,
   "metadata": {
    "collapsed": true
   },
   "outputs": [
    {
     "data": {
      "text/plain": [
       "worst concave points       0.320178\n",
       "worst perimeter            0.176677\n",
       "worst area                 0.139982\n",
       "mean concave points        0.120589\n",
       "worst radius               0.101025\n",
       "worst texture              0.023199\n",
       "mean texture               0.021481\n",
       "worst concavity            0.010650\n",
       "area error                 0.010010\n",
       "mean area                  0.009718\n",
       "mean concavity             0.009263\n",
       "worst smoothness           0.006004\n",
       "mean radius                0.004489\n",
       "mean perimeter             0.004164\n",
       "worst fractal dimension    0.003923\n",
       "worst compactness          0.003733\n",
       "radius error               0.003675\n",
       "mean symmetry              0.003561\n",
       "worst symmetry             0.003399\n",
       "texture error              0.003360\n",
       "smoothness error           0.003210\n",
       "fractal dimension error    0.002890\n",
       "mean compactness           0.002633\n",
       "mean fractal dimension     0.002227\n",
       "symmetry error             0.002182\n",
       "perimeter error            0.002077\n",
       "concavity error            0.002060\n",
       "concave points error       0.001879\n",
       "compactness error          0.001145\n",
       "mean smoothness            0.000615\n",
       "dtype: float64"
      ]
     },
     "execution_count": 48,
     "metadata": {},
     "output_type": "execute_result"
    }
   ],
   "source": [
    "# Random Forestの Feature Importances を調べる\n",
    "\n",
    "rf_importances = pd.Series(rf_clf.best_estimator_.feature_importances_, index=data.feature_names)\n",
    "rf_importances.sort_values(ascending=False)"
   ]
  },
  {
   "cell_type": "code",
   "execution_count": 37,
   "metadata": {},
   "outputs": [
    {
     "data": {
      "text/plain": [
       "target                     1.000000\n",
       "worst concave points       0.793566\n",
       "worst perimeter            0.782914\n",
       "mean concave points        0.776614\n",
       "worst radius               0.776454\n",
       "mean perimeter             0.742636\n",
       "worst area                 0.733825\n",
       "mean radius                0.730029\n",
       "mean area                  0.708984\n",
       "mean concavity             0.696360\n",
       "worst concavity            0.659610\n",
       "mean compactness           0.596534\n",
       "worst compactness          0.590998\n",
       "radius error               0.567134\n",
       "perimeter error            0.556141\n",
       "area error                 0.548236\n",
       "worst texture              0.456903\n",
       "worst smoothness           0.421465\n",
       "worst symmetry             0.416294\n",
       "mean texture               0.415185\n",
       "concave points error       0.408042\n",
       "mean smoothness            0.358560\n",
       "mean symmetry              0.330499\n",
       "worst fractal dimension    0.323872\n",
       "compactness error          0.292999\n",
       "concavity error            0.253730\n",
       "fractal dimension error    0.077972\n",
       "smoothness error           0.067016\n",
       "mean fractal dimension     0.012838\n",
       "texture error              0.008303\n",
       "symmetry error             0.006522\n",
       "dtype: float64"
      ]
     },
     "execution_count": 37,
     "metadata": {},
     "output_type": "execute_result"
    }
   ],
   "source": [
    "corr_target.abs().sort_values(ascending=False)"
   ]
  },
  {
   "cell_type": "markdown",
   "metadata": {},
   "source": [
    "# おまけ\n",
    "worst_columns と mean_columns どちらか一方でも良さそう → とりあえずそこの相関を取ってみる"
   ]
  },
  {
   "cell_type": "code",
   "execution_count": 92,
   "metadata": {},
   "outputs": [
    {
     "data": {
      "text/plain": [
       "[0.9695389726112059,\n",
       " 0.912044588840421,\n",
       " 0.9703868870426395,\n",
       " 0.9592133256499001,\n",
       " 0.8053241954943624,\n",
       " 0.8658090398022628,\n",
       " 0.8841026390943821,\n",
       " 0.9101553142985938,\n",
       " 0.699825797643731,\n",
       " 0.7672967792384361]"
      ]
     },
     "execution_count": 92,
     "metadata": {},
     "output_type": "execute_result"
    }
   ],
   "source": [
    "[X[worst_columns[i]].corr(X[mean_columns[i]]) for i in range(10)]    # どれも非常に高い → 片方で十分"
   ]
  },
  {
   "cell_type": "code",
   "execution_count": 72,
   "metadata": {},
   "outputs": [],
   "source": [
    "# svm\n",
    "svc_base = SVC(random_state=SEED)\n",
    "svc_param_grid = {\n",
    "    \"C\": (0.01, 0.1, 1.0, 10.0, 100.0), \"kernel\": ('linear', 'poly', 'rbf', 'sigmoid'), \n",
    "    \"gamma\": (\"auto\", \"scale\")\n",
    "}\n",
    "svc_clf = GridSearchCV(svc_base, svc_param_grid, \"f1\", verbose=2, cv=5)"
   ]
  },
  {
   "cell_type": "code",
   "execution_count": 73,
   "metadata": {},
   "outputs": [
    {
     "name": "stdout",
     "output_type": "stream",
     "text": [
      "Fitting 5 folds for each of 40 candidates, totalling 200 fits\n",
      "[CV] C=0.01, gamma=auto, kernel=linear ...............................\n",
      "[CV] ................ C=0.01, gamma=auto, kernel=linear, total=   0.0s\n",
      "[CV] C=0.01, gamma=auto, kernel=linear ...............................\n",
      "[CV] ................ C=0.01, gamma=auto, kernel=linear, total=   0.0s\n",
      "[CV] C=0.01, gamma=auto, kernel=linear ...............................\n",
      "[CV] ................ C=0.01, gamma=auto, kernel=linear, total=   0.0s\n",
      "[CV] C=0.01, gamma=auto, kernel=linear ...............................\n",
      "[CV] ................ C=0.01, gamma=auto, kernel=linear, total=   0.0s\n",
      "[CV] C=0.01, gamma=auto, kernel=linear ...............................\n",
      "[CV] ................ C=0.01, gamma=auto, kernel=linear, total=   0.0s\n",
      "[CV] C=0.01, gamma=auto, kernel=poly .................................\n",
      "[CV] .................. C=0.01, gamma=auto, kernel=poly, total=   0.0s\n",
      "[CV] C=0.01, gamma=auto, kernel=poly .................................\n",
      "[CV] .................. C=0.01, gamma=auto, kernel=poly, total=   0.0s\n",
      "[CV] C=0.01, gamma=auto, kernel=poly .................................\n",
      "[CV] .................. C=0.01, gamma=auto, kernel=poly, total=   0.0s\n",
      "[CV] C=0.01, gamma=auto, kernel=poly .................................\n",
      "[CV] .................. C=0.01, gamma=auto, kernel=poly, total=   0.0s\n",
      "[CV] C=0.01, gamma=auto, kernel=poly .................................\n",
      "[CV] .................. C=0.01, gamma=auto, kernel=poly, total=   0.0s\n",
      "[CV] C=0.01, gamma=auto, kernel=rbf ..................................\n",
      "[CV] ................... C=0.01, gamma=auto, kernel=rbf, total=   0.0s\n",
      "[CV] C=0.01, gamma=auto, kernel=rbf ..................................\n",
      "[CV] ................... C=0.01, gamma=auto, kernel=rbf, total=   0.0s\n",
      "[CV] C=0.01, gamma=auto, kernel=rbf ..................................\n",
      "[CV] ................... C=0.01, gamma=auto, kernel=rbf, total=   0.0s\n",
      "[CV] C=0.01, gamma=auto, kernel=rbf ..................................\n",
      "[CV] ................... C=0.01, gamma=auto, kernel=rbf, total=   0.0s\n",
      "[CV] C=0.01, gamma=auto, kernel=rbf ..................................\n",
      "[CV] ................... C=0.01, gamma=auto, kernel=rbf, total=   0.0s\n",
      "[CV] C=0.01, gamma=auto, kernel=sigmoid ..............................\n",
      "[CV] ............... C=0.01, gamma=auto, kernel=sigmoid, total=   0.0s\n",
      "[CV] C=0.01, gamma=auto, kernel=sigmoid ..............................\n",
      "[CV] ............... C=0.01, gamma=auto, kernel=sigmoid, total=   0.0s\n",
      "[CV] C=0.01, gamma=auto, kernel=sigmoid ..............................\n",
      "[CV] ............... C=0.01, gamma=auto, kernel=sigmoid, total=   0.0s\n",
      "[CV] C=0.01, gamma=auto, kernel=sigmoid ..............................\n",
      "[CV] ............... C=0.01, gamma=auto, kernel=sigmoid, total=   0.0s\n",
      "[CV] C=0.01, gamma=auto, kernel=sigmoid ..............................\n",
      "[CV] ............... C=0.01, gamma=auto, kernel=sigmoid, total=   0.0s\n",
      "[CV] C=0.01, gamma=scale, kernel=linear ..............................\n",
      "[CV] ............... C=0.01, gamma=scale, kernel=linear, total=   0.0s\n",
      "[CV] C=0.01, gamma=scale, kernel=linear ..............................\n",
      "[CV] ............... C=0.01, gamma=scale, kernel=linear, total=   0.0s\n",
      "[CV] C=0.01, gamma=scale, kernel=linear ..............................\n"
     ]
    },
    {
     "name": "stderr",
     "output_type": "stream",
     "text": [
      "[Parallel(n_jobs=1)]: Using backend SequentialBackend with 1 concurrent workers.\n",
      "[Parallel(n_jobs=1)]: Done   1 out of   1 | elapsed:    0.0s remaining:    0.0s\n"
     ]
    },
    {
     "name": "stdout",
     "output_type": "stream",
     "text": [
      "[CV] ............... C=0.01, gamma=scale, kernel=linear, total=   0.0s\n",
      "[CV] C=0.01, gamma=scale, kernel=linear ..............................\n",
      "[CV] ............... C=0.01, gamma=scale, kernel=linear, total=   0.0s\n",
      "[CV] C=0.01, gamma=scale, kernel=linear ..............................\n",
      "[CV] ............... C=0.01, gamma=scale, kernel=linear, total=   0.0s\n",
      "[CV] C=0.01, gamma=scale, kernel=poly ................................\n",
      "[CV] ................. C=0.01, gamma=scale, kernel=poly, total=   0.0s\n",
      "[CV] C=0.01, gamma=scale, kernel=poly ................................\n",
      "[CV] ................. C=0.01, gamma=scale, kernel=poly, total=   0.0s\n",
      "[CV] C=0.01, gamma=scale, kernel=poly ................................\n",
      "[CV] ................. C=0.01, gamma=scale, kernel=poly, total=   0.0s\n",
      "[CV] C=0.01, gamma=scale, kernel=poly ................................\n",
      "[CV] ................. C=0.01, gamma=scale, kernel=poly, total=   0.0s\n",
      "[CV] C=0.01, gamma=scale, kernel=poly ................................\n",
      "[CV] ................. C=0.01, gamma=scale, kernel=poly, total=   0.0s\n",
      "[CV] C=0.01, gamma=scale, kernel=rbf .................................\n",
      "[CV] .................. C=0.01, gamma=scale, kernel=rbf, total=   0.0s\n",
      "[CV] C=0.01, gamma=scale, kernel=rbf .................................\n",
      "[CV] .................. C=0.01, gamma=scale, kernel=rbf, total=   0.0s\n",
      "[CV] C=0.01, gamma=scale, kernel=rbf .................................\n",
      "[CV] .................. C=0.01, gamma=scale, kernel=rbf, total=   0.0s\n",
      "[CV] C=0.01, gamma=scale, kernel=rbf .................................\n",
      "[CV] .................. C=0.01, gamma=scale, kernel=rbf, total=   0.0s\n",
      "[CV] C=0.01, gamma=scale, kernel=rbf .................................\n",
      "[CV] .................. C=0.01, gamma=scale, kernel=rbf, total=   0.0s\n",
      "[CV] C=0.01, gamma=scale, kernel=sigmoid .............................\n",
      "[CV] .............. C=0.01, gamma=scale, kernel=sigmoid, total=   0.0s\n",
      "[CV] C=0.01, gamma=scale, kernel=sigmoid .............................\n",
      "[CV] .............. C=0.01, gamma=scale, kernel=sigmoid, total=   0.0s\n",
      "[CV] C=0.01, gamma=scale, kernel=sigmoid .............................\n",
      "[CV] .............. C=0.01, gamma=scale, kernel=sigmoid, total=   0.0s\n",
      "[CV] C=0.01, gamma=scale, kernel=sigmoid .............................\n",
      "[CV] .............. C=0.01, gamma=scale, kernel=sigmoid, total=   0.0s\n",
      "[CV] C=0.01, gamma=scale, kernel=sigmoid .............................\n",
      "[CV] .............. C=0.01, gamma=scale, kernel=sigmoid, total=   0.0s\n",
      "[CV] C=0.1, gamma=auto, kernel=linear ................................\n",
      "[CV] ................. C=0.1, gamma=auto, kernel=linear, total=   0.0s\n",
      "[CV] C=0.1, gamma=auto, kernel=linear ................................\n",
      "[CV] ................. C=0.1, gamma=auto, kernel=linear, total=   0.0s\n",
      "[CV] C=0.1, gamma=auto, kernel=linear ................................\n",
      "[CV] ................. C=0.1, gamma=auto, kernel=linear, total=   0.0s\n",
      "[CV] C=0.1, gamma=auto, kernel=linear ................................\n",
      "[CV] ................. C=0.1, gamma=auto, kernel=linear, total=   0.0s\n",
      "[CV] C=0.1, gamma=auto, kernel=linear ................................\n",
      "[CV] ................. C=0.1, gamma=auto, kernel=linear, total=   0.0s\n",
      "[CV] C=0.1, gamma=auto, kernel=poly ..................................\n",
      "[CV] ................... C=0.1, gamma=auto, kernel=poly, total=   0.0s\n",
      "[CV] C=0.1, gamma=auto, kernel=poly ..................................\n",
      "[CV] ................... C=0.1, gamma=auto, kernel=poly, total=   0.0s\n",
      "[CV] C=0.1, gamma=auto, kernel=poly ..................................\n",
      "[CV] ................... C=0.1, gamma=auto, kernel=poly, total=   0.0s\n",
      "[CV] C=0.1, gamma=auto, kernel=poly ..................................\n",
      "[CV] ................... C=0.1, gamma=auto, kernel=poly, total=   0.0s\n",
      "[CV] C=0.1, gamma=auto, kernel=poly ..................................\n",
      "[CV] ................... C=0.1, gamma=auto, kernel=poly, total=   0.0s\n",
      "[CV] C=0.1, gamma=auto, kernel=rbf ...................................\n",
      "[CV] .................... C=0.1, gamma=auto, kernel=rbf, total=   0.0s\n",
      "[CV] C=0.1, gamma=auto, kernel=rbf ...................................\n",
      "[CV] .................... C=0.1, gamma=auto, kernel=rbf, total=   0.0s\n",
      "[CV] C=0.1, gamma=auto, kernel=rbf ...................................\n",
      "[CV] .................... C=0.1, gamma=auto, kernel=rbf, total=   0.0s\n",
      "[CV] C=0.1, gamma=auto, kernel=rbf ...................................\n",
      "[CV] .................... C=0.1, gamma=auto, kernel=rbf, total=   0.0s\n",
      "[CV] C=0.1, gamma=auto, kernel=rbf ...................................\n",
      "[CV] .................... C=0.1, gamma=auto, kernel=rbf, total=   0.0s\n",
      "[CV] C=0.1, gamma=auto, kernel=sigmoid ...............................\n",
      "[CV] ................ C=0.1, gamma=auto, kernel=sigmoid, total=   0.0s\n",
      "[CV] C=0.1, gamma=auto, kernel=sigmoid ...............................\n",
      "[CV] ................ C=0.1, gamma=auto, kernel=sigmoid, total=   0.0s\n",
      "[CV] C=0.1, gamma=auto, kernel=sigmoid ...............................\n",
      "[CV] ................ C=0.1, gamma=auto, kernel=sigmoid, total=   0.0s\n",
      "[CV] C=0.1, gamma=auto, kernel=sigmoid ...............................\n",
      "[CV] ................ C=0.1, gamma=auto, kernel=sigmoid, total=   0.0s\n",
      "[CV] C=0.1, gamma=auto, kernel=sigmoid ...............................\n",
      "[CV] ................ C=0.1, gamma=auto, kernel=sigmoid, total=   0.0s\n",
      "[CV] C=0.1, gamma=scale, kernel=linear ...............................\n",
      "[CV] ................ C=0.1, gamma=scale, kernel=linear, total=   0.0s\n",
      "[CV] C=0.1, gamma=scale, kernel=linear ...............................\n",
      "[CV] ................ C=0.1, gamma=scale, kernel=linear, total=   0.0s\n",
      "[CV] C=0.1, gamma=scale, kernel=linear ...............................\n",
      "[CV] ................ C=0.1, gamma=scale, kernel=linear, total=   0.0s\n",
      "[CV] C=0.1, gamma=scale, kernel=linear ...............................\n",
      "[CV] ................ C=0.1, gamma=scale, kernel=linear, total=   0.0s\n",
      "[CV] C=0.1, gamma=scale, kernel=linear ...............................\n",
      "[CV] ................ C=0.1, gamma=scale, kernel=linear, total=   0.0s\n",
      "[CV] C=0.1, gamma=scale, kernel=poly .................................\n",
      "[CV] .................. C=0.1, gamma=scale, kernel=poly, total=   0.0s\n",
      "[CV] C=0.1, gamma=scale, kernel=poly .................................\n",
      "[CV] .................. C=0.1, gamma=scale, kernel=poly, total=   0.0s\n",
      "[CV] C=0.1, gamma=scale, kernel=poly .................................\n",
      "[CV] .................. C=0.1, gamma=scale, kernel=poly, total=   0.0s\n",
      "[CV] C=0.1, gamma=scale, kernel=poly .................................\n",
      "[CV] .................. C=0.1, gamma=scale, kernel=poly, total=   0.0s\n",
      "[CV] C=0.1, gamma=scale, kernel=poly .................................\n",
      "[CV] .................. C=0.1, gamma=scale, kernel=poly, total=   0.0s\n",
      "[CV] C=0.1, gamma=scale, kernel=rbf ..................................\n",
      "[CV] ................... C=0.1, gamma=scale, kernel=rbf, total=   0.0s\n",
      "[CV] C=0.1, gamma=scale, kernel=rbf ..................................\n",
      "[CV] ................... C=0.1, gamma=scale, kernel=rbf, total=   0.0s\n",
      "[CV] C=0.1, gamma=scale, kernel=rbf ..................................\n",
      "[CV] ................... C=0.1, gamma=scale, kernel=rbf, total=   0.0s\n",
      "[CV] C=0.1, gamma=scale, kernel=rbf ..................................\n",
      "[CV] ................... C=0.1, gamma=scale, kernel=rbf, total=   0.0s\n",
      "[CV] C=0.1, gamma=scale, kernel=rbf ..................................\n",
      "[CV] ................... C=0.1, gamma=scale, kernel=rbf, total=   0.0s\n",
      "[CV] C=0.1, gamma=scale, kernel=sigmoid ..............................\n",
      "[CV] ............... C=0.1, gamma=scale, kernel=sigmoid, total=   0.0s\n",
      "[CV] C=0.1, gamma=scale, kernel=sigmoid ..............................\n",
      "[CV] ............... C=0.1, gamma=scale, kernel=sigmoid, total=   0.0s\n",
      "[CV] C=0.1, gamma=scale, kernel=sigmoid ..............................\n",
      "[CV] ............... C=0.1, gamma=scale, kernel=sigmoid, total=   0.0s\n",
      "[CV] C=0.1, gamma=scale, kernel=sigmoid ..............................\n",
      "[CV] ............... C=0.1, gamma=scale, kernel=sigmoid, total=   0.0s\n",
      "[CV] C=0.1, gamma=scale, kernel=sigmoid ..............................\n",
      "[CV] ............... C=0.1, gamma=scale, kernel=sigmoid, total=   0.0s\n",
      "[CV] C=1.0, gamma=auto, kernel=linear ................................\n",
      "[CV] ................. C=1.0, gamma=auto, kernel=linear, total=   0.0s\n",
      "[CV] C=1.0, gamma=auto, kernel=linear ................................\n",
      "[CV] ................. C=1.0, gamma=auto, kernel=linear, total=   0.0s\n",
      "[CV] C=1.0, gamma=auto, kernel=linear ................................\n",
      "[CV] ................. C=1.0, gamma=auto, kernel=linear, total=   0.0s\n",
      "[CV] C=1.0, gamma=auto, kernel=linear ................................\n",
      "[CV] ................. C=1.0, gamma=auto, kernel=linear, total=   0.0s\n",
      "[CV] C=1.0, gamma=auto, kernel=linear ................................\n",
      "[CV] ................. C=1.0, gamma=auto, kernel=linear, total=   0.0s\n",
      "[CV] C=1.0, gamma=auto, kernel=poly ..................................\n",
      "[CV] ................... C=1.0, gamma=auto, kernel=poly, total=   0.0s\n",
      "[CV] C=1.0, gamma=auto, kernel=poly ..................................\n",
      "[CV] ................... C=1.0, gamma=auto, kernel=poly, total=   0.0s\n",
      "[CV] C=1.0, gamma=auto, kernel=poly ..................................\n",
      "[CV] ................... C=1.0, gamma=auto, kernel=poly, total=   0.0s\n",
      "[CV] C=1.0, gamma=auto, kernel=poly ..................................\n",
      "[CV] ................... C=1.0, gamma=auto, kernel=poly, total=   0.0s\n",
      "[CV] C=1.0, gamma=auto, kernel=poly ..................................\n",
      "[CV] ................... C=1.0, gamma=auto, kernel=poly, total=   0.0s\n",
      "[CV] C=1.0, gamma=auto, kernel=rbf ...................................\n",
      "[CV] .................... C=1.0, gamma=auto, kernel=rbf, total=   0.0s\n",
      "[CV] C=1.0, gamma=auto, kernel=rbf ...................................\n",
      "[CV] .................... C=1.0, gamma=auto, kernel=rbf, total=   0.0s\n",
      "[CV] C=1.0, gamma=auto, kernel=rbf ...................................\n",
      "[CV] .................... C=1.0, gamma=auto, kernel=rbf, total=   0.0s\n",
      "[CV] C=1.0, gamma=auto, kernel=rbf ...................................\n",
      "[CV] .................... C=1.0, gamma=auto, kernel=rbf, total=   0.0s\n",
      "[CV] C=1.0, gamma=auto, kernel=rbf ...................................\n",
      "[CV] .................... C=1.0, gamma=auto, kernel=rbf, total=   0.0s\n",
      "[CV] C=1.0, gamma=auto, kernel=sigmoid ...............................\n",
      "[CV] ................ C=1.0, gamma=auto, kernel=sigmoid, total=   0.0s\n",
      "[CV] C=1.0, gamma=auto, kernel=sigmoid ...............................\n",
      "[CV] ................ C=1.0, gamma=auto, kernel=sigmoid, total=   0.0s\n",
      "[CV] C=1.0, gamma=auto, kernel=sigmoid ...............................\n",
      "[CV] ................ C=1.0, gamma=auto, kernel=sigmoid, total=   0.0s\n",
      "[CV] C=1.0, gamma=auto, kernel=sigmoid ...............................\n",
      "[CV] ................ C=1.0, gamma=auto, kernel=sigmoid, total=   0.0s\n",
      "[CV] C=1.0, gamma=auto, kernel=sigmoid ...............................\n",
      "[CV] ................ C=1.0, gamma=auto, kernel=sigmoid, total=   0.0s\n",
      "[CV] C=1.0, gamma=scale, kernel=linear ...............................\n",
      "[CV] ................ C=1.0, gamma=scale, kernel=linear, total=   0.0s\n",
      "[CV] C=1.0, gamma=scale, kernel=linear ...............................\n",
      "[CV] ................ C=1.0, gamma=scale, kernel=linear, total=   0.0s\n",
      "[CV] C=1.0, gamma=scale, kernel=linear ...............................\n",
      "[CV] ................ C=1.0, gamma=scale, kernel=linear, total=   0.0s\n",
      "[CV] C=1.0, gamma=scale, kernel=linear ...............................\n",
      "[CV] ................ C=1.0, gamma=scale, kernel=linear, total=   0.0s\n",
      "[CV] C=1.0, gamma=scale, kernel=linear ...............................\n",
      "[CV] ................ C=1.0, gamma=scale, kernel=linear, total=   0.0s\n",
      "[CV] C=1.0, gamma=scale, kernel=poly .................................\n",
      "[CV] .................. C=1.0, gamma=scale, kernel=poly, total=   0.0s\n",
      "[CV] C=1.0, gamma=scale, kernel=poly .................................\n",
      "[CV] .................. C=1.0, gamma=scale, kernel=poly, total=   0.0s\n",
      "[CV] C=1.0, gamma=scale, kernel=poly .................................\n",
      "[CV] .................. C=1.0, gamma=scale, kernel=poly, total=   0.0s\n",
      "[CV] C=1.0, gamma=scale, kernel=poly .................................\n",
      "[CV] .................. C=1.0, gamma=scale, kernel=poly, total=   0.0s\n",
      "[CV] C=1.0, gamma=scale, kernel=poly .................................\n",
      "[CV] .................. C=1.0, gamma=scale, kernel=poly, total=   0.0s\n",
      "[CV] C=1.0, gamma=scale, kernel=rbf ..................................\n",
      "[CV] ................... C=1.0, gamma=scale, kernel=rbf, total=   0.0s\n",
      "[CV] C=1.0, gamma=scale, kernel=rbf ..................................\n",
      "[CV] ................... C=1.0, gamma=scale, kernel=rbf, total=   0.0s\n",
      "[CV] C=1.0, gamma=scale, kernel=rbf ..................................\n",
      "[CV] ................... C=1.0, gamma=scale, kernel=rbf, total=   0.0s\n",
      "[CV] C=1.0, gamma=scale, kernel=rbf ..................................\n",
      "[CV] ................... C=1.0, gamma=scale, kernel=rbf, total=   0.0s\n",
      "[CV] C=1.0, gamma=scale, kernel=rbf ..................................\n",
      "[CV] ................... C=1.0, gamma=scale, kernel=rbf, total=   0.0s\n",
      "[CV] C=1.0, gamma=scale, kernel=sigmoid ..............................\n",
      "[CV] ............... C=1.0, gamma=scale, kernel=sigmoid, total=   0.0s\n",
      "[CV] C=1.0, gamma=scale, kernel=sigmoid ..............................\n",
      "[CV] ............... C=1.0, gamma=scale, kernel=sigmoid, total=   0.0s\n",
      "[CV] C=1.0, gamma=scale, kernel=sigmoid ..............................\n",
      "[CV] ............... C=1.0, gamma=scale, kernel=sigmoid, total=   0.0s\n",
      "[CV] C=1.0, gamma=scale, kernel=sigmoid ..............................\n",
      "[CV] ............... C=1.0, gamma=scale, kernel=sigmoid, total=   0.0s\n",
      "[CV] C=1.0, gamma=scale, kernel=sigmoid ..............................\n",
      "[CV] ............... C=1.0, gamma=scale, kernel=sigmoid, total=   0.0s\n",
      "[CV] C=10.0, gamma=auto, kernel=linear ...............................\n",
      "[CV] ................ C=10.0, gamma=auto, kernel=linear, total=   0.0s\n",
      "[CV] C=10.0, gamma=auto, kernel=linear ...............................\n",
      "[CV] ................ C=10.0, gamma=auto, kernel=linear, total=   0.0s\n",
      "[CV] C=10.0, gamma=auto, kernel=linear ...............................\n",
      "[CV] ................ C=10.0, gamma=auto, kernel=linear, total=   0.0s\n",
      "[CV] C=10.0, gamma=auto, kernel=linear ...............................\n",
      "[CV] ................ C=10.0, gamma=auto, kernel=linear, total=   0.0s\n",
      "[CV] C=10.0, gamma=auto, kernel=linear ...............................\n",
      "[CV] ................ C=10.0, gamma=auto, kernel=linear, total=   0.0s\n",
      "[CV] C=10.0, gamma=auto, kernel=poly .................................\n",
      "[CV] .................. C=10.0, gamma=auto, kernel=poly, total=   0.0s\n",
      "[CV] C=10.0, gamma=auto, kernel=poly .................................\n",
      "[CV] .................. C=10.0, gamma=auto, kernel=poly, total=   0.0s\n",
      "[CV] C=10.0, gamma=auto, kernel=poly .................................\n",
      "[CV] .................. C=10.0, gamma=auto, kernel=poly, total=   0.0s\n",
      "[CV] C=10.0, gamma=auto, kernel=poly .................................\n",
      "[CV] .................. C=10.0, gamma=auto, kernel=poly, total=   0.0s\n",
      "[CV] C=10.0, gamma=auto, kernel=poly .................................\n",
      "[CV] .................. C=10.0, gamma=auto, kernel=poly, total=   0.0s\n",
      "[CV] C=10.0, gamma=auto, kernel=rbf ..................................\n",
      "[CV] ................... C=10.0, gamma=auto, kernel=rbf, total=   0.0s\n",
      "[CV] C=10.0, gamma=auto, kernel=rbf ..................................\n",
      "[CV] ................... C=10.0, gamma=auto, kernel=rbf, total=   0.0s\n",
      "[CV] C=10.0, gamma=auto, kernel=rbf ..................................\n",
      "[CV] ................... C=10.0, gamma=auto, kernel=rbf, total=   0.0s\n",
      "[CV] C=10.0, gamma=auto, kernel=rbf ..................................\n",
      "[CV] ................... C=10.0, gamma=auto, kernel=rbf, total=   0.0s\n",
      "[CV] C=10.0, gamma=auto, kernel=rbf ..................................\n",
      "[CV] ................... C=10.0, gamma=auto, kernel=rbf, total=   0.0s\n",
      "[CV] C=10.0, gamma=auto, kernel=sigmoid ..............................\n",
      "[CV] ............... C=10.0, gamma=auto, kernel=sigmoid, total=   0.0s\n",
      "[CV] C=10.0, gamma=auto, kernel=sigmoid ..............................\n",
      "[CV] ............... C=10.0, gamma=auto, kernel=sigmoid, total=   0.0s\n",
      "[CV] C=10.0, gamma=auto, kernel=sigmoid ..............................\n",
      "[CV] ............... C=10.0, gamma=auto, kernel=sigmoid, total=   0.0s\n",
      "[CV] C=10.0, gamma=auto, kernel=sigmoid ..............................\n",
      "[CV] ............... C=10.0, gamma=auto, kernel=sigmoid, total=   0.0s\n",
      "[CV] C=10.0, gamma=auto, kernel=sigmoid ..............................\n",
      "[CV] ............... C=10.0, gamma=auto, kernel=sigmoid, total=   0.0s\n",
      "[CV] C=10.0, gamma=scale, kernel=linear ..............................\n",
      "[CV] ............... C=10.0, gamma=scale, kernel=linear, total=   0.0s\n",
      "[CV] C=10.0, gamma=scale, kernel=linear ..............................\n",
      "[CV] ............... C=10.0, gamma=scale, kernel=linear, total=   0.0s\n",
      "[CV] C=10.0, gamma=scale, kernel=linear ..............................\n",
      "[CV] ............... C=10.0, gamma=scale, kernel=linear, total=   0.0s\n",
      "[CV] C=10.0, gamma=scale, kernel=linear ..............................\n",
      "[CV] ............... C=10.0, gamma=scale, kernel=linear, total=   0.0s\n",
      "[CV] C=10.0, gamma=scale, kernel=linear ..............................\n",
      "[CV] ............... C=10.0, gamma=scale, kernel=linear, total=   0.0s\n",
      "[CV] C=10.0, gamma=scale, kernel=poly ................................\n",
      "[CV] ................. C=10.0, gamma=scale, kernel=poly, total=   0.0s\n",
      "[CV] C=10.0, gamma=scale, kernel=poly ................................\n",
      "[CV] ................. C=10.0, gamma=scale, kernel=poly, total=   0.0s\n",
      "[CV] C=10.0, gamma=scale, kernel=poly ................................\n",
      "[CV] ................. C=10.0, gamma=scale, kernel=poly, total=   0.0s\n",
      "[CV] C=10.0, gamma=scale, kernel=poly ................................\n",
      "[CV] ................. C=10.0, gamma=scale, kernel=poly, total=   0.0s\n",
      "[CV] C=10.0, gamma=scale, kernel=poly ................................\n",
      "[CV] ................. C=10.0, gamma=scale, kernel=poly, total=   0.0s\n",
      "[CV] C=10.0, gamma=scale, kernel=rbf .................................\n",
      "[CV] .................. C=10.0, gamma=scale, kernel=rbf, total=   0.0s\n",
      "[CV] C=10.0, gamma=scale, kernel=rbf .................................\n",
      "[CV] .................. C=10.0, gamma=scale, kernel=rbf, total=   0.0s\n",
      "[CV] C=10.0, gamma=scale, kernel=rbf .................................\n",
      "[CV] .................. C=10.0, gamma=scale, kernel=rbf, total=   0.0s\n",
      "[CV] C=10.0, gamma=scale, kernel=rbf .................................\n",
      "[CV] .................. C=10.0, gamma=scale, kernel=rbf, total=   0.0s\n",
      "[CV] C=10.0, gamma=scale, kernel=rbf .................................\n",
      "[CV] .................. C=10.0, gamma=scale, kernel=rbf, total=   0.0s\n",
      "[CV] C=10.0, gamma=scale, kernel=sigmoid .............................\n",
      "[CV] .............. C=10.0, gamma=scale, kernel=sigmoid, total=   0.0s\n",
      "[CV] C=10.0, gamma=scale, kernel=sigmoid .............................\n",
      "[CV] .............. C=10.0, gamma=scale, kernel=sigmoid, total=   0.0s\n",
      "[CV] C=10.0, gamma=scale, kernel=sigmoid .............................\n",
      "[CV] .............. C=10.0, gamma=scale, kernel=sigmoid, total=   0.0s\n",
      "[CV] C=10.0, gamma=scale, kernel=sigmoid .............................\n",
      "[CV] .............. C=10.0, gamma=scale, kernel=sigmoid, total=   0.0s\n",
      "[CV] C=10.0, gamma=scale, kernel=sigmoid .............................\n",
      "[CV] .............. C=10.0, gamma=scale, kernel=sigmoid, total=   0.0s\n",
      "[CV] C=100.0, gamma=auto, kernel=linear ..............................\n",
      "[CV] ............... C=100.0, gamma=auto, kernel=linear, total=   0.0s\n",
      "[CV] C=100.0, gamma=auto, kernel=linear ..............................\n",
      "[CV] ............... C=100.0, gamma=auto, kernel=linear, total=   0.0s\n",
      "[CV] C=100.0, gamma=auto, kernel=linear ..............................\n",
      "[CV] ............... C=100.0, gamma=auto, kernel=linear, total=   0.0s\n",
      "[CV] C=100.0, gamma=auto, kernel=linear ..............................\n",
      "[CV] ............... C=100.0, gamma=auto, kernel=linear, total=   0.0s\n",
      "[CV] C=100.0, gamma=auto, kernel=linear ..............................\n",
      "[CV] ............... C=100.0, gamma=auto, kernel=linear, total=   0.0s\n",
      "[CV] C=100.0, gamma=auto, kernel=poly ................................\n",
      "[CV] ................. C=100.0, gamma=auto, kernel=poly, total=   0.0s\n",
      "[CV] C=100.0, gamma=auto, kernel=poly ................................\n",
      "[CV] ................. C=100.0, gamma=auto, kernel=poly, total=   0.0s\n",
      "[CV] C=100.0, gamma=auto, kernel=poly ................................\n",
      "[CV] ................. C=100.0, gamma=auto, kernel=poly, total=   0.0s\n",
      "[CV] C=100.0, gamma=auto, kernel=poly ................................\n",
      "[CV] ................. C=100.0, gamma=auto, kernel=poly, total=   0.0s\n",
      "[CV] C=100.0, gamma=auto, kernel=poly ................................\n",
      "[CV] ................. C=100.0, gamma=auto, kernel=poly, total=   0.0s\n",
      "[CV] C=100.0, gamma=auto, kernel=rbf .................................\n",
      "[CV] .................. C=100.0, gamma=auto, kernel=rbf, total=   0.0s\n",
      "[CV] C=100.0, gamma=auto, kernel=rbf .................................\n",
      "[CV] .................. C=100.0, gamma=auto, kernel=rbf, total=   0.0s\n",
      "[CV] C=100.0, gamma=auto, kernel=rbf .................................\n",
      "[CV] .................. C=100.0, gamma=auto, kernel=rbf, total=   0.0s\n",
      "[CV] C=100.0, gamma=auto, kernel=rbf .................................\n",
      "[CV] .................. C=100.0, gamma=auto, kernel=rbf, total=   0.0s\n",
      "[CV] C=100.0, gamma=auto, kernel=rbf .................................\n",
      "[CV] .................. C=100.0, gamma=auto, kernel=rbf, total=   0.0s\n",
      "[CV] C=100.0, gamma=auto, kernel=sigmoid .............................\n",
      "[CV] .............. C=100.0, gamma=auto, kernel=sigmoid, total=   0.0s\n",
      "[CV] C=100.0, gamma=auto, kernel=sigmoid .............................\n",
      "[CV] .............. C=100.0, gamma=auto, kernel=sigmoid, total=   0.0s\n",
      "[CV] C=100.0, gamma=auto, kernel=sigmoid .............................\n",
      "[CV] .............. C=100.0, gamma=auto, kernel=sigmoid, total=   0.0s\n",
      "[CV] C=100.0, gamma=auto, kernel=sigmoid .............................\n",
      "[CV] .............. C=100.0, gamma=auto, kernel=sigmoid, total=   0.0s\n",
      "[CV] C=100.0, gamma=auto, kernel=sigmoid .............................\n",
      "[CV] .............. C=100.0, gamma=auto, kernel=sigmoid, total=   0.0s\n",
      "[CV] C=100.0, gamma=scale, kernel=linear .............................\n",
      "[CV] .............. C=100.0, gamma=scale, kernel=linear, total=   0.0s\n",
      "[CV] C=100.0, gamma=scale, kernel=linear .............................\n",
      "[CV] .............. C=100.0, gamma=scale, kernel=linear, total=   0.0s\n",
      "[CV] C=100.0, gamma=scale, kernel=linear .............................\n",
      "[CV] .............. C=100.0, gamma=scale, kernel=linear, total=   0.0s\n",
      "[CV] C=100.0, gamma=scale, kernel=linear .............................\n",
      "[CV] .............. C=100.0, gamma=scale, kernel=linear, total=   0.0s\n",
      "[CV] C=100.0, gamma=scale, kernel=linear .............................\n",
      "[CV] .............. C=100.0, gamma=scale, kernel=linear, total=   0.0s\n",
      "[CV] C=100.0, gamma=scale, kernel=poly ...............................\n",
      "[CV] ................ C=100.0, gamma=scale, kernel=poly, total=   0.0s\n",
      "[CV] C=100.0, gamma=scale, kernel=poly ...............................\n",
      "[CV] ................ C=100.0, gamma=scale, kernel=poly, total=   0.0s\n",
      "[CV] C=100.0, gamma=scale, kernel=poly ...............................\n",
      "[CV] ................ C=100.0, gamma=scale, kernel=poly, total=   0.0s\n",
      "[CV] C=100.0, gamma=scale, kernel=poly ...............................\n",
      "[CV] ................ C=100.0, gamma=scale, kernel=poly, total=   0.0s\n",
      "[CV] C=100.0, gamma=scale, kernel=poly ...............................\n",
      "[CV] ................ C=100.0, gamma=scale, kernel=poly, total=   0.0s\n",
      "[CV] C=100.0, gamma=scale, kernel=rbf ................................\n",
      "[CV] ................. C=100.0, gamma=scale, kernel=rbf, total=   0.0s\n",
      "[CV] C=100.0, gamma=scale, kernel=rbf ................................\n",
      "[CV] ................. C=100.0, gamma=scale, kernel=rbf, total=   0.0s\n",
      "[CV] C=100.0, gamma=scale, kernel=rbf ................................\n",
      "[CV] ................. C=100.0, gamma=scale, kernel=rbf, total=   0.0s\n",
      "[CV] C=100.0, gamma=scale, kernel=rbf ................................\n",
      "[CV] ................. C=100.0, gamma=scale, kernel=rbf, total=   0.0s\n",
      "[CV] C=100.0, gamma=scale, kernel=rbf ................................\n",
      "[CV] ................. C=100.0, gamma=scale, kernel=rbf, total=   0.0s\n",
      "[CV] C=100.0, gamma=scale, kernel=sigmoid ............................\n",
      "[CV] ............. C=100.0, gamma=scale, kernel=sigmoid, total=   0.0s\n",
      "[CV] C=100.0, gamma=scale, kernel=sigmoid ............................\n",
      "[CV] ............. C=100.0, gamma=scale, kernel=sigmoid, total=   0.0s\n",
      "[CV] C=100.0, gamma=scale, kernel=sigmoid ............................\n",
      "[CV] ............. C=100.0, gamma=scale, kernel=sigmoid, total=   0.0s\n",
      "[CV] C=100.0, gamma=scale, kernel=sigmoid ............................\n",
      "[CV] ............. C=100.0, gamma=scale, kernel=sigmoid, total=   0.0s\n",
      "[CV] C=100.0, gamma=scale, kernel=sigmoid ............................\n",
      "[CV] ............. C=100.0, gamma=scale, kernel=sigmoid, total=   0.0s\n"
     ]
    },
    {
     "name": "stderr",
     "output_type": "stream",
     "text": [
      "[Parallel(n_jobs=1)]: Done 200 out of 200 | elapsed:    1.4s finished\n"
     ]
    },
    {
     "data": {
      "text/plain": [
       "GridSearchCV(cv=5, error_score=nan,\n",
       "             estimator=SVC(C=1.0, break_ties=False, cache_size=200,\n",
       "                           class_weight=None, coef0=0.0,\n",
       "                           decision_function_shape='ovr', degree=3,\n",
       "                           gamma='scale', kernel='rbf', max_iter=-1,\n",
       "                           probability=False, random_state=64, shrinking=True,\n",
       "                           tol=0.001, verbose=False),\n",
       "             iid='deprecated', n_jobs=None,\n",
       "             param_grid={'C': (0.01, 0.1, 1.0, 10.0, 100.0),\n",
       "                         'gamma': ('auto', 'scale'),\n",
       "                         'kernel': ('linear', 'poly', 'rbf', 'sigmoid')},\n",
       "             pre_dispatch='2*n_jobs', refit=True, return_train_score=False,\n",
       "             scoring='f1', verbose=2)"
      ]
     },
     "execution_count": 73,
     "metadata": {},
     "output_type": "execute_result"
    }
   ],
   "source": [
    "svc_clf.fit(X_train[worst_columns], y_train)"
   ]
  },
  {
   "cell_type": "code",
   "execution_count": 75,
   "metadata": {},
   "outputs": [],
   "source": [
    "svc_y_pred_worst = svc_clf.predict(X_test[worst_columns])\n",
    "svc_y_pred_worst = pd.Series(svc_y_pred_worst)"
   ]
  },
  {
   "cell_type": "code",
   "execution_count": 78,
   "metadata": {},
   "outputs": [
    {
     "data": {
      "text/plain": [
       "0.9693877551020408"
      ]
     },
     "execution_count": 78,
     "metadata": {},
     "output_type": "execute_result"
    }
   ],
   "source": [
    "f1_score(y_test, svc_y_pred_worst)"
   ]
  },
  {
   "cell_type": "code",
   "execution_count": 79,
   "metadata": {},
   "outputs": [
    {
     "data": {
      "text/plain": [
       "0.958041958041958"
      ]
     },
     "execution_count": 79,
     "metadata": {},
     "output_type": "execute_result"
    }
   ],
   "source": [
    "accuracy_score(y_test, svc_y_pred_worst)"
   ]
  },
  {
   "cell_type": "markdown",
   "metadata": {},
   "source": [
    "精度がほぼ変わらず、訓練時間は 1.9s → 1.4s に短縮することができた。"
   ]
  },
  {
   "cell_type": "markdown",
   "metadata": {},
   "source": [
    "# 感想"
   ]
  },
  {
   "cell_type": "markdown",
   "metadata": {},
   "source": [
    "3時間前後かかった。\n",
    "\n",
    "ラボワークの知識を基にやったので流れとしては苦労しなかったが、ハイパラ探索の手法でGridSearchを使うと良いのを知っていても、実数の場合どれくらいの値を入れればいいのか、\n",
    "SVMはスケーリングを行う必要があるのか、などで悩んだ。\n",
    "\n",
    "データが簡単なため、途中で目的を見失いがちになった。特に、仮定があっているか確かめるために、ただデータをそのまま入れただけのRandom Forestのfeature_importances_を見るというのは、\n",
    "よく考えると仮定をする意味自体を失っているような気がする。\n",
    "\n",
    "後々考えると列名からしてあからさまでデータ数的にも必要性はない気もするが、meanとworstの値がほとんど同じ特徴を示していることに気づき、不要な列を削ることができたのはよかったと思う。\n",
    "\n",
    "有志で範囲だったSVMをせっかくなので使ってみたが、非線形SVMのハイパーパラメータはほとんどがカーネル関数に対したものだったため、あまり理解した気がしなくて残念だった。\n"
   ]
  },
  {
   "cell_type": "code",
   "execution_count": null,
   "metadata": {},
   "outputs": [],
   "source": []
  }
 ],
 "metadata": {
  "kernelspec": {
   "display_name": "Python 3",
   "language": "python",
   "name": "python3"
  },
  "language_info": {
   "codemirror_mode": {
    "name": "ipython",
    "version": 3
   },
   "file_extension": ".py",
   "mimetype": "text/x-python",
   "name": "python",
   "nbconvert_exporter": "python",
   "pygments_lexer": "ipython3",
   "version": "3.7.2"
  }
 },
 "nbformat": 4,
 "nbformat_minor": 2
}
